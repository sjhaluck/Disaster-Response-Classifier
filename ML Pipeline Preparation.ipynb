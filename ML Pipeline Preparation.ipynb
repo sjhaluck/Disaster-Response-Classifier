{
 "cells": [
  {
   "cell_type": "markdown",
   "metadata": {},
   "source": [
    "# ML Pipeline Preparation\n",
    "Follow the instructions below to help you create your ML pipeline.\n",
    "### 1. Import libraries and load data from database.\n",
    "- Import Python libraries\n",
    "- Load dataset from database with [`read_sql_table`](https://pandas.pydata.org/pandas-docs/stable/generated/pandas.read_sql_table.html)\n",
    "- Define feature and target variables X and Y"
   ]
  },
  {
   "cell_type": "code",
   "execution_count": 1,
   "metadata": {},
   "outputs": [
    {
     "name": "stderr",
     "output_type": "stream",
     "text": [
      "[nltk_data] Downloading package punkt to\n",
      "[nltk_data]     C:\\Users\\sjhal\\AppData\\Roaming\\nltk_data...\n",
      "[nltk_data]   Package punkt is already up-to-date!\n",
      "[nltk_data] Downloading package wordnet to\n",
      "[nltk_data]     C:\\Users\\sjhal\\AppData\\Roaming\\nltk_data...\n",
      "[nltk_data]   Package wordnet is already up-to-date!\n"
     ]
    }
   ],
   "source": [
    "# import libraries\n",
    "import numpy as np\n",
    "import pandas as pd\n",
    "import nltk\n",
    "nltk.download(['punkt','wordnet'])\n",
    "from sqlalchemy import create_engine\n",
    "from nltk.tokenize import word_tokenize, sent_tokenize\n",
    "from nltk.stem import WordNetLemmatizer\n",
    "from nltk.corpus import stopwords\n",
    "from sklearn.multioutput import MultiOutputClassifier\n",
    "from sklearn.pipeline import Pipeline\n",
    "from sklearn.feature_extraction.text import CountVectorizer, TfidfTransformer\n",
    "from sklearn.neighbors import KNeighborsClassifier\n",
    "from sklearn.ensemble import RandomForestClassifier\n",
    "from sklearn.model_selection import train_test_split, GridSearchCV\n",
    "from sklearn.metrics import classification_report, f1_score, make_scorer\n",
    "import pickle"
   ]
  },
  {
   "cell_type": "code",
   "execution_count": 2,
   "metadata": {},
   "outputs": [],
   "source": [
    "# load data from database\n",
    "engine = create_engine('sqlite:///DisasterResponse.db')\n",
    "df = pd.read_sql('DisasterResponse',engine)\n",
    "X = df[['message']].message\n",
    "Y = df[df.columns[4:]]"
   ]
  },
  {
   "cell_type": "markdown",
   "metadata": {},
   "source": [
    "### 2. Write a tokenization function to process your text data"
   ]
  },
  {
   "cell_type": "code",
   "execution_count": 3,
   "metadata": {},
   "outputs": [],
   "source": [
    "stop_words = stopwords.words(\"english\")\n",
    "\n",
    "def tokenize(text):\n",
    "    words = word_tokenize(text.lower())\n",
    "    lemmatizer = WordNetLemmatizer()\n",
    "    \n",
    "    tokens = [lemmatizer.lemmatize(word).lower().strip() for word in words if word not in stop_words]\n",
    "    return tokens"
   ]
  },
  {
   "cell_type": "markdown",
   "metadata": {},
   "source": [
    "### 3. Build a machine learning pipeline\n",
    "This machine pipeline should take in the `message` column as input and output classification results on the other 36 categories in the dataset. You may find the [MultiOutputClassifier](http://scikit-learn.org/stable/modules/generated/sklearn.multioutput.MultiOutputClassifier.html) helpful for predicting multiple target variables."
   ]
  },
  {
   "cell_type": "code",
   "execution_count": 4,
   "metadata": {},
   "outputs": [],
   "source": [
    "pipeline = Pipeline([\n",
    "    ('vect', CountVectorizer(tokenizer=tokenize)),\n",
    "    ('tfidf', TfidfTransformer()),\n",
    "    ('clf', MultiOutputClassifier(estimator=RandomForestClassifier(n_estimators=10)))\n",
    "])"
   ]
  },
  {
   "cell_type": "markdown",
   "metadata": {},
   "source": [
    "### 4. Train pipeline\n",
    "- Split data into train and test sets\n",
    "- Train pipeline"
   ]
  },
  {
   "cell_type": "code",
   "execution_count": 5,
   "metadata": {},
   "outputs": [
    {
     "data": {
      "text/plain": [
       "Pipeline(steps=[('vect',\n",
       "                 CountVectorizer(tokenizer=<function tokenize at 0x000001E05CC915E0>)),\n",
       "                ('tfidf', TfidfTransformer()),\n",
       "                ('clf',\n",
       "                 MultiOutputClassifier(estimator=RandomForestClassifier(n_estimators=10)))])"
      ]
     },
     "execution_count": 5,
     "metadata": {},
     "output_type": "execute_result"
    }
   ],
   "source": [
    "X_train, X_test, Y_train, Y_test = train_test_split(X,Y)\n",
    "pipeline.fit(X_train,Y_train)"
   ]
  },
  {
   "cell_type": "markdown",
   "metadata": {},
   "source": [
    "### 5. Test your model\n",
    "Report the f1 score, precision and recall for each output category of the dataset. You can do this by iterating through the columns and calling sklearn's `classification_report` on each."
   ]
  },
  {
   "cell_type": "code",
   "execution_count": 6,
   "metadata": {
    "scrolled": true
   },
   "outputs": [],
   "source": [
    "y_pred = pipeline.predict(X_test)"
   ]
  },
  {
   "cell_type": "code",
   "execution_count": 7,
   "metadata": {},
   "outputs": [],
   "source": [
    "y_pred = pd.DataFrame(y_pred,columns=Y_test.columns)"
   ]
  },
  {
   "cell_type": "code",
   "execution_count": 8,
   "metadata": {
    "scrolled": true
   },
   "outputs": [
    {
     "name": "stdout",
     "output_type": "stream",
     "text": [
      "related\n",
      "              precision    recall  f1-score   support\n",
      "\n",
      "         0.0       0.32      0.13      0.18      1528\n",
      "         1.0       0.77      0.92      0.84      4971\n",
      "         2.0       0.50      0.02      0.04        53\n",
      "\n",
      "    accuracy                           0.73      6552\n",
      "   macro avg       0.53      0.35      0.35      6552\n",
      "weighted avg       0.66      0.73      0.68      6552\n",
      "\n",
      "request\n",
      "              precision    recall  f1-score   support\n",
      "\n",
      "         0.0       0.84      0.98      0.90      5423\n",
      "         1.0       0.44      0.08      0.14      1129\n",
      "\n",
      "    accuracy                           0.82      6552\n",
      "   macro avg       0.64      0.53      0.52      6552\n",
      "weighted avg       0.77      0.82      0.77      6552\n",
      "\n",
      "offer\n",
      "              precision    recall  f1-score   support\n",
      "\n",
      "         0.0       1.00      1.00      1.00      6525\n",
      "         1.0       0.00      0.00      0.00        27\n",
      "\n",
      "    accuracy                           1.00      6552\n",
      "   macro avg       0.50      0.50      0.50      6552\n",
      "weighted avg       0.99      1.00      0.99      6552\n",
      "\n",
      "aid_related\n",
      "              precision    recall  f1-score   support\n",
      "\n",
      "         0.0       0.59      0.80      0.68      3837\n",
      "         1.0       0.43      0.21      0.28      2715\n",
      "\n",
      "    accuracy                           0.56      6552\n",
      "   macro avg       0.51      0.51      0.48      6552\n",
      "weighted avg       0.52      0.56      0.51      6552\n",
      "\n",
      "medical_help\n",
      "              precision    recall  f1-score   support\n",
      "\n",
      "         0.0       0.92      1.00      0.96      6046\n",
      "         1.0       0.09      0.01      0.01       506\n",
      "\n",
      "    accuracy                           0.92      6552\n",
      "   macro avg       0.51      0.50      0.48      6552\n",
      "weighted avg       0.86      0.92      0.88      6552\n",
      "\n",
      "medical_products\n"
     ]
    },
    {
     "name": "stderr",
     "output_type": "stream",
     "text": [
      "C:\\Users\\sjhal\\Anaconda3\\envs\\disaster\\lib\\site-packages\\sklearn\\metrics\\_classification.py:1245: UndefinedMetricWarning: Precision and F-score are ill-defined and being set to 0.0 in labels with no predicted samples. Use `zero_division` parameter to control this behavior.\n",
      "  _warn_prf(average, modifier, msg_start, len(result))\n",
      "C:\\Users\\sjhal\\Anaconda3\\envs\\disaster\\lib\\site-packages\\sklearn\\metrics\\_classification.py:1245: UndefinedMetricWarning: Precision and F-score are ill-defined and being set to 0.0 in labels with no predicted samples. Use `zero_division` parameter to control this behavior.\n",
      "  _warn_prf(average, modifier, msg_start, len(result))\n",
      "C:\\Users\\sjhal\\Anaconda3\\envs\\disaster\\lib\\site-packages\\sklearn\\metrics\\_classification.py:1245: UndefinedMetricWarning: Precision and F-score are ill-defined and being set to 0.0 in labels with no predicted samples. Use `zero_division` parameter to control this behavior.\n",
      "  _warn_prf(average, modifier, msg_start, len(result))\n"
     ]
    },
    {
     "name": "stdout",
     "output_type": "stream",
     "text": [
      "              precision    recall  f1-score   support\n",
      "\n",
      "         0.0       0.95      1.00      0.97      6242\n",
      "         1.0       0.11      0.01      0.02       310\n",
      "\n",
      "    accuracy                           0.95      6552\n",
      "   macro avg       0.53      0.50      0.50      6552\n",
      "weighted avg       0.91      0.95      0.93      6552\n",
      "\n",
      "search_and_rescue\n",
      "              precision    recall  f1-score   support\n",
      "\n",
      "         0.0       0.97      1.00      0.99      6387\n",
      "         1.0       0.00      0.00      0.00       165\n",
      "\n",
      "    accuracy                           0.97      6552\n",
      "   macro avg       0.49      0.50      0.49      6552\n",
      "weighted avg       0.95      0.97      0.96      6552\n",
      "\n",
      "security\n",
      "              precision    recall  f1-score   support\n",
      "\n",
      "         0.0       0.98      1.00      0.99      6432\n",
      "         1.0       0.00      0.00      0.00       120\n",
      "\n",
      "    accuracy                           0.98      6552\n",
      "   macro avg       0.49      0.50      0.50      6552\n",
      "weighted avg       0.96      0.98      0.97      6552\n",
      "\n",
      "military\n",
      "              precision    recall  f1-score   support\n",
      "\n",
      "         0.0       0.97      1.00      0.98      6334\n",
      "         1.0       0.50      0.00      0.01       218\n",
      "\n",
      "    accuracy                           0.97      6552\n",
      "   macro avg       0.73      0.50      0.50      6552\n",
      "weighted avg       0.95      0.97      0.95      6552\n",
      "\n",
      "child_alone\n",
      "              precision    recall  f1-score   support\n",
      "\n",
      "         0.0       1.00      1.00      1.00      6552\n",
      "\n",
      "    accuracy                           1.00      6552\n",
      "   macro avg       1.00      1.00      1.00      6552\n",
      "weighted avg       1.00      1.00      1.00      6552\n",
      "\n",
      "water\n",
      "              precision    recall  f1-score   support\n",
      "\n",
      "         0.0       0.94      1.00      0.97      6154\n",
      "         1.0       0.04      0.00      0.00       398\n",
      "\n",
      "    accuracy                           0.94      6552\n",
      "   macro avg       0.49      0.50      0.49      6552\n",
      "weighted avg       0.88      0.94      0.91      6552\n",
      "\n",
      "food\n",
      "              precision    recall  f1-score   support\n",
      "\n",
      "         0.0       0.89      0.99      0.94      5835\n",
      "         1.0       0.07      0.00      0.01       717\n",
      "\n",
      "    accuracy                           0.88      6552\n",
      "   macro avg       0.48      0.50      0.47      6552\n",
      "weighted avg       0.80      0.88      0.84      6552\n",
      "\n",
      "shelter\n",
      "              precision    recall  f1-score   support\n",
      "\n",
      "         0.0       0.91      0.99      0.95      5959\n",
      "         1.0       0.10      0.01      0.01       593\n",
      "\n",
      "    accuracy                           0.90      6552\n",
      "   macro avg       0.50      0.50      0.48      6552\n",
      "weighted avg       0.84      0.90      0.86      6552\n",
      "\n",
      "clothing\n",
      "              precision    recall  f1-score   support\n",
      "\n",
      "         0.0       0.99      1.00      0.99      6465\n",
      "         1.0       0.40      0.02      0.04        87\n",
      "\n",
      "    accuracy                           0.99      6552\n",
      "   macro avg       0.69      0.51      0.52      6552\n",
      "weighted avg       0.98      0.99      0.98      6552\n",
      "\n",
      "money\n",
      "              precision    recall  f1-score   support\n",
      "\n",
      "         0.0       0.98      1.00      0.99      6393\n",
      "         1.0       0.00      0.00      0.00       159\n",
      "\n",
      "    accuracy                           0.98      6552\n",
      "   macro avg       0.49      0.50      0.49      6552\n",
      "weighted avg       0.95      0.98      0.96      6552\n",
      "\n",
      "missing_people\n",
      "              precision    recall  f1-score   support\n",
      "\n",
      "         0.0       0.99      1.00      0.99      6478\n",
      "         1.0       0.00      0.00      0.00        74\n",
      "\n",
      "    accuracy                           0.99      6552\n",
      "   macro avg       0.49      0.50      0.50      6552\n",
      "weighted avg       0.98      0.99      0.98      6552\n",
      "\n",
      "refugees\n"
     ]
    },
    {
     "name": "stderr",
     "output_type": "stream",
     "text": [
      "C:\\Users\\sjhal\\Anaconda3\\envs\\disaster\\lib\\site-packages\\sklearn\\metrics\\_classification.py:1245: UndefinedMetricWarning: Precision and F-score are ill-defined and being set to 0.0 in labels with no predicted samples. Use `zero_division` parameter to control this behavior.\n",
      "  _warn_prf(average, modifier, msg_start, len(result))\n",
      "C:\\Users\\sjhal\\Anaconda3\\envs\\disaster\\lib\\site-packages\\sklearn\\metrics\\_classification.py:1245: UndefinedMetricWarning: Precision and F-score are ill-defined and being set to 0.0 in labels with no predicted samples. Use `zero_division` parameter to control this behavior.\n",
      "  _warn_prf(average, modifier, msg_start, len(result))\n",
      "C:\\Users\\sjhal\\Anaconda3\\envs\\disaster\\lib\\site-packages\\sklearn\\metrics\\_classification.py:1245: UndefinedMetricWarning: Precision and F-score are ill-defined and being set to 0.0 in labels with no predicted samples. Use `zero_division` parameter to control this behavior.\n",
      "  _warn_prf(average, modifier, msg_start, len(result))\n"
     ]
    },
    {
     "name": "stdout",
     "output_type": "stream",
     "text": [
      "              precision    recall  f1-score   support\n",
      "\n",
      "         0.0       0.97      1.00      0.98      6345\n",
      "         1.0       0.00      0.00      0.00       207\n",
      "\n",
      "    accuracy                           0.97      6552\n",
      "   macro avg       0.48      0.50      0.49      6552\n",
      "weighted avg       0.94      0.97      0.95      6552\n",
      "\n",
      "death\n",
      "              precision    recall  f1-score   support\n",
      "\n",
      "         0.0       0.95      1.00      0.98      6246\n",
      "         1.0       0.00      0.00      0.00       306\n",
      "\n",
      "    accuracy                           0.95      6552\n",
      "   macro avg       0.48      0.50      0.49      6552\n",
      "weighted avg       0.91      0.95      0.93      6552\n",
      "\n",
      "other_aid\n",
      "              precision    recall  f1-score   support\n",
      "\n",
      "         0.0       0.86      0.99      0.92      5653\n",
      "         1.0       0.13      0.01      0.02       899\n",
      "\n",
      "    accuracy                           0.85      6552\n",
      "   macro avg       0.50      0.50      0.47      6552\n",
      "weighted avg       0.76      0.85      0.80      6552\n",
      "\n",
      "infrastructure_related\n",
      "              precision    recall  f1-score   support\n",
      "\n",
      "         0.0       0.93      1.00      0.96      6122\n",
      "         1.0       0.13      0.01      0.01       430\n",
      "\n",
      "    accuracy                           0.93      6552\n",
      "   macro avg       0.53      0.50      0.49      6552\n",
      "weighted avg       0.88      0.93      0.90      6552\n",
      "\n",
      "transport\n",
      "              precision    recall  f1-score   support\n",
      "\n",
      "         0.0       0.95      1.00      0.97      6232\n",
      "         1.0       0.09      0.00      0.01       320\n",
      "\n",
      "    accuracy                           0.95      6552\n",
      "   macro avg       0.52      0.50      0.49      6552\n",
      "weighted avg       0.91      0.95      0.93      6552\n",
      "\n",
      "buildings\n",
      "              precision    recall  f1-score   support\n",
      "\n",
      "         0.0       0.95      1.00      0.97      6200\n",
      "         1.0       0.08      0.01      0.01       352\n",
      "\n",
      "    accuracy                           0.94      6552\n",
      "   macro avg       0.51      0.50      0.49      6552\n",
      "weighted avg       0.90      0.94      0.92      6552\n",
      "\n",
      "electricity\n",
      "              precision    recall  f1-score   support\n",
      "\n",
      "         0.0       0.98      1.00      0.99      6432\n",
      "         1.0       0.00      0.00      0.00       120\n",
      "\n",
      "    accuracy                           0.98      6552\n",
      "   macro avg       0.49      0.50      0.50      6552\n",
      "weighted avg       0.96      0.98      0.97      6552\n",
      "\n",
      "tools\n",
      "              precision    recall  f1-score   support\n",
      "\n",
      "         0.0       0.99      1.00      1.00      6505\n",
      "         1.0       0.00      0.00      0.00        47\n",
      "\n",
      "    accuracy                           0.99      6552\n",
      "   macro avg       0.50      0.50      0.50      6552\n",
      "weighted avg       0.99      0.99      0.99      6552\n",
      "\n",
      "hospitals\n",
      "              precision    recall  f1-score   support\n",
      "\n",
      "         0.0       0.99      1.00      0.99      6481\n",
      "         1.0       0.00      0.00      0.00        71\n",
      "\n",
      "    accuracy                           0.99      6552\n",
      "   macro avg       0.49      0.50      0.50      6552\n",
      "weighted avg       0.98      0.99      0.98      6552\n",
      "\n",
      "shops\n",
      "              precision    recall  f1-score   support\n",
      "\n",
      "         0.0       0.99      1.00      1.00      6518\n",
      "         1.0       0.00      0.00      0.00        34\n",
      "\n",
      "    accuracy                           0.99      6552\n",
      "   macro avg       0.50      0.50      0.50      6552\n",
      "weighted avg       0.99      0.99      0.99      6552\n",
      "\n",
      "aid_centers\n"
     ]
    },
    {
     "name": "stderr",
     "output_type": "stream",
     "text": [
      "C:\\Users\\sjhal\\Anaconda3\\envs\\disaster\\lib\\site-packages\\sklearn\\metrics\\_classification.py:1245: UndefinedMetricWarning: Precision and F-score are ill-defined and being set to 0.0 in labels with no predicted samples. Use `zero_division` parameter to control this behavior.\n",
      "  _warn_prf(average, modifier, msg_start, len(result))\n",
      "C:\\Users\\sjhal\\Anaconda3\\envs\\disaster\\lib\\site-packages\\sklearn\\metrics\\_classification.py:1245: UndefinedMetricWarning: Precision and F-score are ill-defined and being set to 0.0 in labels with no predicted samples. Use `zero_division` parameter to control this behavior.\n",
      "  _warn_prf(average, modifier, msg_start, len(result))\n",
      "C:\\Users\\sjhal\\Anaconda3\\envs\\disaster\\lib\\site-packages\\sklearn\\metrics\\_classification.py:1245: UndefinedMetricWarning: Precision and F-score are ill-defined and being set to 0.0 in labels with no predicted samples. Use `zero_division` parameter to control this behavior.\n",
      "  _warn_prf(average, modifier, msg_start, len(result))\n",
      "C:\\Users\\sjhal\\Anaconda3\\envs\\disaster\\lib\\site-packages\\sklearn\\metrics\\_classification.py:1245: UndefinedMetricWarning: Precision and F-score are ill-defined and being set to 0.0 in labels with no predicted samples. Use `zero_division` parameter to control this behavior.\n",
      "  _warn_prf(average, modifier, msg_start, len(result))\n",
      "C:\\Users\\sjhal\\Anaconda3\\envs\\disaster\\lib\\site-packages\\sklearn\\metrics\\_classification.py:1245: UndefinedMetricWarning: Precision and F-score are ill-defined and being set to 0.0 in labels with no predicted samples. Use `zero_division` parameter to control this behavior.\n",
      "  _warn_prf(average, modifier, msg_start, len(result))\n",
      "C:\\Users\\sjhal\\Anaconda3\\envs\\disaster\\lib\\site-packages\\sklearn\\metrics\\_classification.py:1245: UndefinedMetricWarning: Precision and F-score are ill-defined and being set to 0.0 in labels with no predicted samples. Use `zero_division` parameter to control this behavior.\n",
      "  _warn_prf(average, modifier, msg_start, len(result))\n"
     ]
    },
    {
     "name": "stdout",
     "output_type": "stream",
     "text": [
      "              precision    recall  f1-score   support\n",
      "\n",
      "         0.0       0.99      1.00      0.99      6470\n",
      "         1.0       0.00      0.00      0.00        82\n",
      "\n",
      "    accuracy                           0.99      6552\n",
      "   macro avg       0.49      0.50      0.50      6552\n",
      "weighted avg       0.98      0.99      0.98      6552\n",
      "\n",
      "other_infrastructure\n",
      "              precision    recall  f1-score   support\n",
      "\n",
      "         0.0       0.96      1.00      0.98      6268\n",
      "         1.0       0.13      0.01      0.01       284\n",
      "\n",
      "    accuracy                           0.95      6552\n",
      "   macro avg       0.55      0.50      0.50      6552\n",
      "weighted avg       0.92      0.95      0.94      6552\n",
      "\n",
      "weather_related\n",
      "              precision    recall  f1-score   support\n",
      "\n",
      "         0.0       0.74      0.95      0.83      4712\n",
      "         1.0       0.55      0.16      0.25      1840\n",
      "\n",
      "    accuracy                           0.73      6552\n",
      "   macro avg       0.65      0.55      0.54      6552\n",
      "weighted avg       0.69      0.73      0.67      6552\n",
      "\n",
      "floods\n",
      "              precision    recall  f1-score   support\n",
      "\n",
      "         0.0       0.91      1.00      0.95      5975\n",
      "         1.0       0.17      0.01      0.02       577\n",
      "\n",
      "    accuracy                           0.91      6552\n",
      "   macro avg       0.54      0.50      0.48      6552\n",
      "weighted avg       0.85      0.91      0.87      6552\n",
      "\n",
      "storm\n",
      "              precision    recall  f1-score   support\n",
      "\n",
      "         0.0       0.91      0.99      0.95      5935\n",
      "         1.0       0.40      0.03      0.06       617\n",
      "\n",
      "    accuracy                           0.90      6552\n",
      "   macro avg       0.66      0.51      0.51      6552\n",
      "weighted avg       0.86      0.90      0.87      6552\n",
      "\n",
      "fire\n",
      "              precision    recall  f1-score   support\n",
      "\n",
      "         0.0       0.99      1.00      0.99      6488\n",
      "         1.0       0.00      0.00      0.00        64\n",
      "\n",
      "    accuracy                           0.99      6552\n",
      "   macro avg       0.50      0.50      0.50      6552\n",
      "weighted avg       0.98      0.99      0.99      6552\n",
      "\n",
      "earthquake\n",
      "              precision    recall  f1-score   support\n",
      "\n",
      "         0.0       0.92      0.99      0.95      5944\n",
      "         1.0       0.62      0.13      0.22       608\n",
      "\n",
      "    accuracy                           0.91      6552\n",
      "   macro avg       0.77      0.56      0.59      6552\n",
      "weighted avg       0.89      0.91      0.89      6552\n",
      "\n",
      "cold\n",
      "              precision    recall  f1-score   support\n",
      "\n",
      "         0.0       0.98      1.00      0.99      6416\n",
      "         1.0       0.00      0.00      0.00       136\n",
      "\n",
      "    accuracy                           0.98      6552\n",
      "   macro avg       0.49      0.50      0.49      6552\n",
      "weighted avg       0.96      0.98      0.97      6552\n",
      "\n",
      "other_weather\n",
      "              precision    recall  f1-score   support\n",
      "\n",
      "         0.0       0.95      1.00      0.97      6209\n",
      "         1.0       0.00      0.00      0.00       343\n",
      "\n",
      "    accuracy                           0.95      6552\n",
      "   macro avg       0.47      0.50      0.49      6552\n",
      "weighted avg       0.90      0.95      0.92      6552\n",
      "\n",
      "direct_report\n",
      "              precision    recall  f1-score   support\n",
      "\n",
      "         0.0       0.81      0.97      0.88      5255\n",
      "         1.0       0.37      0.07      0.11      1297\n",
      "\n",
      "    accuracy                           0.79      6552\n",
      "   macro avg       0.59      0.52      0.50      6552\n",
      "weighted avg       0.72      0.79      0.73      6552\n",
      "\n"
     ]
    }
   ],
   "source": [
    "for col in Y_test.columns:\n",
    "    print(col)\n",
    "    print(classification_report(Y_test[col], y_pred[col]))"
   ]
  },
  {
   "cell_type": "code",
   "execution_count": 9,
   "metadata": {
    "scrolled": true
   },
   "outputs": [
    {
     "data": {
      "text/plain": [
       "0.14163614163614163"
      ]
     },
     "execution_count": 9,
     "metadata": {},
     "output_type": "execute_result"
    }
   ],
   "source": [
    "pipeline.score(X_test, Y_test)"
   ]
  },
  {
   "cell_type": "code",
   "execution_count": 10,
   "metadata": {
    "scrolled": true
   },
   "outputs": [
    {
     "data": {
      "text/plain": [
       "0.9229539750373085"
      ]
     },
     "execution_count": 10,
     "metadata": {},
     "output_type": "execute_result"
    }
   ],
   "source": [
    "np.mean(np.mean(Y_test.reset_index(drop=True).eq(y_pred), axis=0))"
   ]
  },
  {
   "cell_type": "code",
   "execution_count": 11,
   "metadata": {},
   "outputs": [
    {
     "data": {
      "text/plain": [
       "0.27478618185293135"
      ]
     },
     "execution_count": 11,
     "metadata": {},
     "output_type": "execute_result"
    }
   ],
   "source": [
    "df_add = Y_test.reset_index(drop=True).add(y_pred, fill_value=0)\n",
    "(df_add[df_add == 2]/2).sum(axis=0, numeric_only=True).sum()/(Y_test.sum(axis=0, numeric_only=True).sum())"
   ]
  },
  {
   "cell_type": "markdown",
   "metadata": {},
   "source": [
    "### 6. Improve your model\n",
    "Use grid search to find better parameters. "
   ]
  },
  {
   "cell_type": "code",
   "execution_count": 12,
   "metadata": {
    "scrolled": true
   },
   "outputs": [
    {
     "data": {
      "text/plain": [
       "{'memory': None,\n",
       " 'steps': [('vect',\n",
       "   CountVectorizer(tokenizer=<function tokenize at 0x000001E05CC915E0>)),\n",
       "  ('tfidf', TfidfTransformer()),\n",
       "  ('clf',\n",
       "   MultiOutputClassifier(estimator=RandomForestClassifier(n_estimators=10)))],\n",
       " 'verbose': False,\n",
       " 'vect': CountVectorizer(tokenizer=<function tokenize at 0x000001E05CC915E0>),\n",
       " 'tfidf': TfidfTransformer(),\n",
       " 'clf': MultiOutputClassifier(estimator=RandomForestClassifier(n_estimators=10)),\n",
       " 'vect__analyzer': 'word',\n",
       " 'vect__binary': False,\n",
       " 'vect__decode_error': 'strict',\n",
       " 'vect__dtype': numpy.int64,\n",
       " 'vect__encoding': 'utf-8',\n",
       " 'vect__input': 'content',\n",
       " 'vect__lowercase': True,\n",
       " 'vect__max_df': 1.0,\n",
       " 'vect__max_features': None,\n",
       " 'vect__min_df': 1,\n",
       " 'vect__ngram_range': (1, 1),\n",
       " 'vect__preprocessor': None,\n",
       " 'vect__stop_words': None,\n",
       " 'vect__strip_accents': None,\n",
       " 'vect__token_pattern': '(?u)\\\\b\\\\w\\\\w+\\\\b',\n",
       " 'vect__tokenizer': <function __main__.tokenize(text)>,\n",
       " 'vect__vocabulary': None,\n",
       " 'tfidf__norm': 'l2',\n",
       " 'tfidf__smooth_idf': True,\n",
       " 'tfidf__sublinear_tf': False,\n",
       " 'tfidf__use_idf': True,\n",
       " 'clf__estimator__bootstrap': True,\n",
       " 'clf__estimator__ccp_alpha': 0.0,\n",
       " 'clf__estimator__class_weight': None,\n",
       " 'clf__estimator__criterion': 'gini',\n",
       " 'clf__estimator__max_depth': None,\n",
       " 'clf__estimator__max_features': 'auto',\n",
       " 'clf__estimator__max_leaf_nodes': None,\n",
       " 'clf__estimator__max_samples': None,\n",
       " 'clf__estimator__min_impurity_decrease': 0.0,\n",
       " 'clf__estimator__min_impurity_split': None,\n",
       " 'clf__estimator__min_samples_leaf': 1,\n",
       " 'clf__estimator__min_samples_split': 2,\n",
       " 'clf__estimator__min_weight_fraction_leaf': 0.0,\n",
       " 'clf__estimator__n_estimators': 10,\n",
       " 'clf__estimator__n_jobs': None,\n",
       " 'clf__estimator__oob_score': False,\n",
       " 'clf__estimator__random_state': None,\n",
       " 'clf__estimator__verbose': 0,\n",
       " 'clf__estimator__warm_start': False,\n",
       " 'clf__estimator': RandomForestClassifier(n_estimators=10),\n",
       " 'clf__n_jobs': None}"
      ]
     },
     "execution_count": 12,
     "metadata": {},
     "output_type": "execute_result"
    }
   ],
   "source": [
    "pipeline.get_params()"
   ]
  },
  {
   "cell_type": "code",
   "execution_count": 23,
   "metadata": {
    "scrolled": true
   },
   "outputs": [],
   "source": [
    "parameters = {'vect__max_df':[0.8, 0.9],\n",
    "              'tfidf__smooth_idf':[True, False],\n",
    "              'clf__estimator':[RandomForestClassifier(n_estimators=6),\n",
    "                                RandomForestClassifier(n_estimators=10),\n",
    "                                KNeighborsClassifier(n_neighbors=5),\n",
    "                                KNeighborsClassifier(n_neighbors=9)]}\n",
    "\n",
    "parameters = {'vect__max_df':[0.8, 0.9],\n",
    "              'tfidf__smooth_idf':[True, False],\n",
    "              'tfidf__sublinear_tf':[False, True],\n",
    "              'clf__estimator__criterion':['gini','entropy'],\n",
    "              'clf__estimator__max_features':['auto','log2', 0.2],\n",
    "              'clf__estimator__bootstrap':[True, False],\n",
    "              'clf__estimator__class_weight':[None, [{0: 1, 1: 1}, {0: 1, 1: 5},\n",
    "                                                     {0: 1, 1: 5}, {0: 1, 1: 5},\n",
    "                                                    {0: 1, 1: 5}, {0: 1, 1: 5},\n",
    "                                                     {0: 1, 1: 5}, {0: 1, 1: 5},\n",
    "                                                    {0: 1, 1: 5}, {0: 1, 1: 5},\n",
    "                                                     {0: 1, 1: 5}, {0: 1, 1: 5},\n",
    "                                                    {0: 1, 1: 5}, {0: 1, 1: 5},\n",
    "                                                     {0: 1, 1: 5}, {0: 1, 1: 5},\n",
    "                                                    {0: 1, 1: 5}, {0: 1, 1: 5},\n",
    "                                                     {0: 1, 1: 5}, {0: 1, 1: 5},\n",
    "                                                    {0: 1, 1: 5}, {0: 1, 1: 5},\n",
    "                                                     {0: 1, 1: 5}, {0: 1, 1: 5},\n",
    "                                                    {0: 1, 1: 5}, {0: 1, 1: 5},\n",
    "                                                     {0: 1, 1: 5}, {0: 1, 1: 5},\n",
    "                                                    {0: 1, 1: 5}, {0: 1, 1: 5},\n",
    "                                                     {0: 1, 1: 5}, {0: 1, 1: 5},\n",
    "                                                    {0: 1, 1: 5}, {0: 1, 1: 5},\n",
    "                                                     {0: 1, 1: 5}, {0: 1, 1: 5}]]}\n",
    "\n",
    "cv = GridSearchCV(estimator=pipeline, param_grid=parameters, n_jobs=11, cv=5, verbose=3)"
   ]
  },
  {
   "cell_type": "code",
   "execution_count": null,
   "metadata": {
    "scrolled": true
   },
   "outputs": [
    {
     "name": "stdout",
     "output_type": "stream",
     "text": [
      "Fitting 5 folds for each of 192 candidates, totalling 960 fits\n"
     ]
    }
   ],
   "source": [
    "cv.fit(X_train, Y_train)"
   ]
  },
  {
   "cell_type": "code",
   "execution_count": null,
   "metadata": {},
   "outputs": [],
   "source": [
    "print(\" Results from Grid Search (model name: cv)\" )\n",
    "print(\"\\n The best estimator across ALL searched params:\\n\",cv.best_estimator_)\n",
    "print(\"\\n The best score across ALL searched params:\\n\",cv.best_score_)\n",
    "print(\"\\n The best parameters across ALL searched params:\\n\",cv.best_params_)"
   ]
  },
  {
   "cell_type": "markdown",
   "metadata": {},
   "source": [
    "### 7. Test your model\n",
    "Show the accuracy, precision, and recall of the tuned model.  \n",
    "\n",
    "Since this project focuses on code quality, process, and  pipelines, there is no minimum performance metric needed to pass. However, make sure to fine tune your models for accuracy, precision and recall to make your project stand out - especially for your portfolio!"
   ]
  },
  {
   "cell_type": "code",
   "execution_count": null,
   "metadata": {},
   "outputs": [],
   "source": [
    "y_pred_cv = cv.predict(X_test)"
   ]
  },
  {
   "cell_type": "code",
   "execution_count": null,
   "metadata": {},
   "outputs": [],
   "source": [
    "y_pred_cv = pd.DataFrame(y_pred_cv,columns=Y_test.columns)"
   ]
  },
  {
   "cell_type": "code",
   "execution_count": null,
   "metadata": {
    "scrolled": true
   },
   "outputs": [],
   "source": [
    "for col in Y_test.columns:\n",
    "    print(col)\n",
    "    print(classification_report(Y_test[col], y_pred_cv[col]))"
   ]
  },
  {
   "cell_type": "code",
   "execution_count": null,
   "metadata": {},
   "outputs": [],
   "source": [
    "cv.score(X_test, Y_test)"
   ]
  },
  {
   "cell_type": "code",
   "execution_count": null,
   "metadata": {
    "scrolled": true
   },
   "outputs": [],
   "source": [
    "np.mean(np.mean(Y_test.reset_index(drop=True).eq(y_pred_cv), axis=0))"
   ]
  },
  {
   "cell_type": "code",
   "execution_count": null,
   "metadata": {},
   "outputs": [],
   "source": [
    "df_add = Y_test.reset_index(drop=True).add(y_pred_cv, fill_value=0)\n",
    "(df_add[df_add == 2]/2).sum(axis=0, numeric_only=True).sum()/(Y_test.sum(axis=0, numeric_only=True).sum())"
   ]
  },
  {
   "cell_type": "markdown",
   "metadata": {},
   "source": [
    "### 8. Try improving your model further. Here are a few ideas:\n",
    "* try other machine learning algorithms\n",
    "* add other features besides the TF-IDF"
   ]
  },
  {
   "cell_type": "markdown",
   "metadata": {},
   "source": [
    "### 9. Export your model as a pickle file"
   ]
  },
  {
   "cell_type": "code",
   "execution_count": 22,
   "metadata": {},
   "outputs": [],
   "source": [
    "# save the model to disk\n",
    "filename = 'classifier.pkl'\n",
    "pickle.dump(cv, open(filename, 'wb'))"
   ]
  },
  {
   "cell_type": "markdown",
   "metadata": {},
   "source": [
    "### 10. Use this notebook to complete `train.py`\n",
    "Use the template file attached in the Resources folder to write a script that runs the steps above to create a database and export a model based on a new dataset specified by the user."
   ]
  },
  {
   "cell_type": "code",
   "execution_count": null,
   "metadata": {},
   "outputs": [],
   "source": []
  }
 ],
 "metadata": {
  "kernelspec": {
   "display_name": "Python 3",
   "language": "python",
   "name": "python3"
  },
  "language_info": {
   "codemirror_mode": {
    "name": "ipython",
    "version": 3
   },
   "file_extension": ".py",
   "mimetype": "text/x-python",
   "name": "python",
   "nbconvert_exporter": "python",
   "pygments_lexer": "ipython3",
   "version": "3.8.6"
  }
 },
 "nbformat": 4,
 "nbformat_minor": 2
}
