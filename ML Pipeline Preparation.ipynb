{
 "cells": [
  {
   "cell_type": "markdown",
   "metadata": {},
   "source": [
    "# ML Pipeline Preparation\n",
    "Follow the instructions below to help you create your ML pipeline.\n",
    "### 1. Import libraries and load data from database.\n",
    "- Import Python libraries\n",
    "- Load dataset from database with [`read_sql_table`](https://pandas.pydata.org/pandas-docs/stable/generated/pandas.read_sql_table.html)\n",
    "- Define feature and target variables X and Y"
   ]
  },
  {
   "cell_type": "code",
   "execution_count": 36,
   "metadata": {},
   "outputs": [
    {
     "name": "stderr",
     "output_type": "stream",
     "text": [
      "[nltk_data] Downloading package punkt to\n",
      "[nltk_data]     C:\\Users\\sjhal\\AppData\\Roaming\\nltk_data...\n",
      "[nltk_data]   Package punkt is already up-to-date!\n",
      "[nltk_data] Downloading package wordnet to\n",
      "[nltk_data]     C:\\Users\\sjhal\\AppData\\Roaming\\nltk_data...\n",
      "[nltk_data]   Package wordnet is already up-to-date!\n"
     ]
    }
   ],
   "source": [
    "# import libraries\n",
    "import numpy as np\n",
    "import pandas as pd\n",
    "import nltk\n",
    "nltk.download(['punkt','wordnet'])\n",
    "from sqlalchemy import create_engine\n",
    "from nltk.tokenize import word_tokenize, sent_tokenize\n",
    "from nltk.stem import WordNetLemmatizer\n",
    "from nltk.corpus import stopwords\n",
    "from sklearn.multioutput import MultiOutputClassifier\n",
    "from sklearn.pipeline import Pipeline\n",
    "from sklearn.feature_extraction.text import CountVectorizer, TfidfTransformer\n",
    "from sklearn.neighbors import KNeighborsClassifier\n",
    "from sklearn.ensemble import RandomForestClassifier\n",
    "from sklearn.model_selection import train_test_split, GridSearchCV\n",
    "from sklearn.metrics import classification_report\n",
    "import pickle"
   ]
  },
  {
   "cell_type": "code",
   "execution_count": 37,
   "metadata": {},
   "outputs": [],
   "source": [
    "# load data from database\n",
    "engine = create_engine('sqlite:///DisasterResponse.db')\n",
    "df = pd.read_sql('DisasterResponse',engine)\n",
    "X = df[['message']].message\n",
    "Y = df[df.columns[4:]]"
   ]
  },
  {
   "cell_type": "markdown",
   "metadata": {},
   "source": [
    "### 2. Write a tokenization function to process your text data"
   ]
  },
  {
   "cell_type": "code",
   "execution_count": 38,
   "metadata": {},
   "outputs": [],
   "source": [
    "stop_words = stopwords.words(\"english\")\n",
    "\n",
    "def tokenize(text):\n",
    "    words = word_tokenize(text.lower())\n",
    "    lemmatizer = WordNetLemmatizer()\n",
    "    \n",
    "    tokens = [lemmatizer.lemmatize(word).lower().strip() for word in words if word not in stop_words]\n",
    "    return tokens"
   ]
  },
  {
   "cell_type": "markdown",
   "metadata": {},
   "source": [
    "### 3. Build a machine learning pipeline\n",
    "This machine pipeline should take in the `message` column as input and output classification results on the other 36 categories in the dataset. You may find the [MultiOutputClassifier](http://scikit-learn.org/stable/modules/generated/sklearn.multioutput.MultiOutputClassifier.html) helpful for predicting multiple target variables."
   ]
  },
  {
   "cell_type": "code",
   "execution_count": 39,
   "metadata": {},
   "outputs": [],
   "source": [
    "pipeline = Pipeline([\n",
    "    ('vect', CountVectorizer(tokenizer=tokenize)),\n",
    "    ('tfidf', TfidfTransformer()),\n",
    "    ('clf', MultiOutputClassifier(estimator=RandomForestClassifier()))\n",
    "])"
   ]
  },
  {
   "cell_type": "markdown",
   "metadata": {},
   "source": [
    "### 4. Train pipeline\n",
    "- Split data into train and test sets\n",
    "- Train pipeline"
   ]
  },
  {
   "cell_type": "code",
   "execution_count": 40,
   "metadata": {},
   "outputs": [
    {
     "data": {
      "text/plain": [
       "Pipeline(steps=[('vect',\n",
       "                 CountVectorizer(tokenizer=<function tokenize at 0x000001F7A8F769D0>)),\n",
       "                ('tfidf', TfidfTransformer()),\n",
       "                ('clf',\n",
       "                 MultiOutputClassifier(estimator=RandomForestClassifier()))])"
      ]
     },
     "execution_count": 40,
     "metadata": {},
     "output_type": "execute_result"
    }
   ],
   "source": [
    "X_train, X_test, Y_train, Y_test = train_test_split(X,Y)\n",
    "pipeline.fit(X_train,Y_train)"
   ]
  },
  {
   "cell_type": "markdown",
   "metadata": {},
   "source": [
    "### 5. Test your model\n",
    "Report the f1 score, precision and recall for each output category of the dataset. You can do this by iterating through the columns and calling sklearn's `classification_report` on each."
   ]
  },
  {
   "cell_type": "code",
   "execution_count": 41,
   "metadata": {
    "scrolled": true
   },
   "outputs": [],
   "source": [
    "y_pred = pipeline.predict(X_test)"
   ]
  },
  {
   "cell_type": "code",
   "execution_count": 42,
   "metadata": {},
   "outputs": [],
   "source": [
    "y_pred = pd.DataFrame(y_pred,columns=Y_test.columns)"
   ]
  },
  {
   "cell_type": "code",
   "execution_count": 43,
   "metadata": {
    "scrolled": true
   },
   "outputs": [
    {
     "name": "stdout",
     "output_type": "stream",
     "text": [
      "related\n",
      "              precision    recall  f1-score   support\n",
      "\n",
      "         0.0       0.40      0.04      0.08      1503\n",
      "         1.0       0.77      0.98      0.86      5000\n",
      "         2.0       0.00      0.00      0.00        49\n",
      "\n",
      "    accuracy                           0.76      6552\n",
      "   macro avg       0.39      0.34      0.31      6552\n",
      "weighted avg       0.68      0.76      0.67      6552\n",
      "\n",
      "request\n",
      "              precision    recall  f1-score   support\n",
      "\n",
      "         0.0       0.83      0.99      0.90      5395\n",
      "         1.0       0.37      0.03      0.06      1157\n",
      "\n",
      "    accuracy                           0.82      6552\n",
      "   macro avg       0.60      0.51      0.48      6552\n",
      "weighted avg       0.75      0.82      0.75      6552\n",
      "\n",
      "offer\n",
      "              precision    recall  f1-score   support\n",
      "\n",
      "         0.0       1.00      1.00      1.00      6530\n",
      "         1.0       0.00      0.00      0.00        22\n",
      "\n",
      "    accuracy                           1.00      6552\n",
      "   macro avg       0.50      0.50      0.50      6552\n",
      "weighted avg       0.99      1.00      0.99      6552\n",
      "\n",
      "aid_related\n",
      "              precision    recall  f1-score   support\n",
      "\n",
      "         0.0       0.59      0.83      0.69      3815\n",
      "         1.0       0.45      0.19      0.27      2737\n",
      "\n",
      "    accuracy                           0.57      6552\n",
      "   macro avg       0.52      0.51      0.48      6552\n",
      "weighted avg       0.53      0.57      0.52      6552\n",
      "\n",
      "medical_help\n",
      "              precision    recall  f1-score   support\n",
      "\n",
      "         0.0       0.92      1.00      0.96      6032\n",
      "         1.0       0.00      0.00      0.00       520\n",
      "\n",
      "    accuracy                           0.92      6552\n",
      "   macro avg       0.46      0.50      0.48      6552\n",
      "weighted avg       0.85      0.92      0.88      6552\n",
      "\n",
      "medical_products\n",
      "              precision    recall  f1-score   support\n",
      "\n",
      "         0.0       0.95      1.00      0.97      6217\n",
      "         1.0       0.00      0.00      0.00       335\n",
      "\n",
      "    accuracy                           0.95      6552\n",
      "   macro avg       0.47      0.50      0.49      6552\n",
      "weighted avg       0.90      0.95      0.92      6552\n",
      "\n",
      "search_and_rescue\n",
      "              precision    recall  f1-score   support\n",
      "\n",
      "         0.0       0.97      1.00      0.99      6365\n",
      "         1.0       0.50      0.01      0.01       187\n",
      "\n",
      "    accuracy                           0.97      6552\n",
      "   macro avg       0.74      0.50      0.50      6552\n",
      "weighted avg       0.96      0.97      0.96      6552\n",
      "\n",
      "security\n",
      "              precision    recall  f1-score   support\n",
      "\n",
      "         0.0       0.98      1.00      0.99      6428\n",
      "         1.0       0.00      0.00      0.00       124\n",
      "\n",
      "    accuracy                           0.98      6552\n",
      "   macro avg       0.49      0.50      0.50      6552\n",
      "weighted avg       0.96      0.98      0.97      6552\n",
      "\n",
      "military\n",
      "              precision    recall  f1-score   support\n",
      "\n",
      "         0.0       0.97      1.00      0.98      6330\n",
      "         1.0       0.00      0.00      0.00       222\n",
      "\n",
      "    accuracy                           0.97      6552\n",
      "   macro avg       0.48      0.50      0.49      6552\n",
      "weighted avg       0.93      0.97      0.95      6552\n",
      "\n",
      "child_alone\n",
      "              precision    recall  f1-score   support\n",
      "\n",
      "         0.0       1.00      1.00      1.00      6552\n",
      "\n",
      "    accuracy                           1.00      6552\n",
      "   macro avg       1.00      1.00      1.00      6552\n",
      "weighted avg       1.00      1.00      1.00      6552\n",
      "\n",
      "water\n",
      "              precision    recall  f1-score   support\n",
      "\n",
      "         0.0       0.93      1.00      0.96      6119\n",
      "         1.0       0.06      0.00      0.00       433\n",
      "\n",
      "    accuracy                           0.93      6552\n",
      "   macro avg       0.50      0.50      0.48      6552\n",
      "weighted avg       0.88      0.93      0.90      6552\n",
      "\n",
      "food\n"
     ]
    },
    {
     "name": "stderr",
     "output_type": "stream",
     "text": [
      "C:\\Users\\sjhal\\Anaconda3\\envs\\disaster\\lib\\site-packages\\sklearn\\metrics\\_classification.py:1245: UndefinedMetricWarning: Precision and F-score are ill-defined and being set to 0.0 in labels with no predicted samples. Use `zero_division` parameter to control this behavior.\n",
      "  _warn_prf(average, modifier, msg_start, len(result))\n",
      "C:\\Users\\sjhal\\Anaconda3\\envs\\disaster\\lib\\site-packages\\sklearn\\metrics\\_classification.py:1245: UndefinedMetricWarning: Precision and F-score are ill-defined and being set to 0.0 in labels with no predicted samples. Use `zero_division` parameter to control this behavior.\n",
      "  _warn_prf(average, modifier, msg_start, len(result))\n",
      "C:\\Users\\sjhal\\Anaconda3\\envs\\disaster\\lib\\site-packages\\sklearn\\metrics\\_classification.py:1245: UndefinedMetricWarning: Precision and F-score are ill-defined and being set to 0.0 in labels with no predicted samples. Use `zero_division` parameter to control this behavior.\n",
      "  _warn_prf(average, modifier, msg_start, len(result))\n"
     ]
    },
    {
     "name": "stdout",
     "output_type": "stream",
     "text": [
      "              precision    recall  f1-score   support\n",
      "\n",
      "         0.0       0.88      1.00      0.94      5790\n",
      "         1.0       0.05      0.00      0.00       762\n",
      "\n",
      "    accuracy                           0.88      6552\n",
      "   macro avg       0.47      0.50      0.47      6552\n",
      "weighted avg       0.79      0.88      0.83      6552\n",
      "\n",
      "shelter\n",
      "              precision    recall  f1-score   support\n",
      "\n",
      "         0.0       0.91      1.00      0.95      5953\n",
      "         1.0       0.04      0.00      0.00       599\n",
      "\n",
      "    accuracy                           0.90      6552\n",
      "   macro avg       0.47      0.50      0.48      6552\n",
      "weighted avg       0.83      0.90      0.86      6552\n",
      "\n",
      "clothing\n",
      "              precision    recall  f1-score   support\n",
      "\n",
      "         0.0       0.99      1.00      0.99      6457\n",
      "         1.0       0.00      0.00      0.00        95\n",
      "\n",
      "    accuracy                           0.99      6552\n",
      "   macro avg       0.49      0.50      0.50      6552\n",
      "weighted avg       0.97      0.99      0.98      6552\n",
      "\n",
      "money\n",
      "              precision    recall  f1-score   support\n",
      "\n",
      "         0.0       0.98      1.00      0.99      6412\n",
      "         1.0       0.00      0.00      0.00       140\n",
      "\n",
      "    accuracy                           0.98      6552\n",
      "   macro avg       0.49      0.50      0.49      6552\n",
      "weighted avg       0.96      0.98      0.97      6552\n",
      "\n",
      "missing_people\n",
      "              precision    recall  f1-score   support\n",
      "\n",
      "         0.0       0.99      1.00      0.99      6465\n",
      "         1.0       0.00      0.00      0.00        87\n",
      "\n",
      "    accuracy                           0.99      6552\n",
      "   macro avg       0.49      0.50      0.50      6552\n",
      "weighted avg       0.97      0.99      0.98      6552\n",
      "\n",
      "refugees\n",
      "              precision    recall  f1-score   support\n",
      "\n",
      "         0.0       0.97      1.00      0.98      6324\n",
      "         1.0       0.50      0.00      0.01       228\n",
      "\n",
      "    accuracy                           0.97      6552\n",
      "   macro avg       0.73      0.50      0.50      6552\n",
      "weighted avg       0.95      0.97      0.95      6552\n",
      "\n",
      "death\n"
     ]
    },
    {
     "name": "stderr",
     "output_type": "stream",
     "text": [
      "C:\\Users\\sjhal\\Anaconda3\\envs\\disaster\\lib\\site-packages\\sklearn\\metrics\\_classification.py:1245: UndefinedMetricWarning: Precision and F-score are ill-defined and being set to 0.0 in labels with no predicted samples. Use `zero_division` parameter to control this behavior.\n",
      "  _warn_prf(average, modifier, msg_start, len(result))\n",
      "C:\\Users\\sjhal\\Anaconda3\\envs\\disaster\\lib\\site-packages\\sklearn\\metrics\\_classification.py:1245: UndefinedMetricWarning: Precision and F-score are ill-defined and being set to 0.0 in labels with no predicted samples. Use `zero_division` parameter to control this behavior.\n",
      "  _warn_prf(average, modifier, msg_start, len(result))\n",
      "C:\\Users\\sjhal\\Anaconda3\\envs\\disaster\\lib\\site-packages\\sklearn\\metrics\\_classification.py:1245: UndefinedMetricWarning: Precision and F-score are ill-defined and being set to 0.0 in labels with no predicted samples. Use `zero_division` parameter to control this behavior.\n",
      "  _warn_prf(average, modifier, msg_start, len(result))\n"
     ]
    },
    {
     "name": "stdout",
     "output_type": "stream",
     "text": [
      "              precision    recall  f1-score   support\n",
      "\n",
      "         0.0       0.95      1.00      0.98      6255\n",
      "         1.0       0.33      0.01      0.01       297\n",
      "\n",
      "    accuracy                           0.95      6552\n",
      "   macro avg       0.64      0.50      0.49      6552\n",
      "weighted avg       0.93      0.95      0.93      6552\n",
      "\n",
      "other_aid\n",
      "              precision    recall  f1-score   support\n",
      "\n",
      "         0.0       0.87      0.99      0.93      5710\n",
      "         1.0       0.08      0.01      0.01       842\n",
      "\n",
      "    accuracy                           0.86      6552\n",
      "   macro avg       0.48      0.50      0.47      6552\n",
      "weighted avg       0.77      0.86      0.81      6552\n",
      "\n",
      "infrastructure_related\n",
      "              precision    recall  f1-score   support\n",
      "\n",
      "         0.0       0.94      1.00      0.97      6127\n",
      "         1.0       0.11      0.00      0.00       425\n",
      "\n",
      "    accuracy                           0.93      6552\n",
      "   macro avg       0.52      0.50      0.49      6552\n",
      "weighted avg       0.88      0.93      0.90      6552\n",
      "\n",
      "transport\n",
      "              precision    recall  f1-score   support\n",
      "\n",
      "         0.0       0.95      1.00      0.97      6222\n",
      "         1.0       0.00      0.00      0.00       330\n",
      "\n",
      "    accuracy                           0.95      6552\n",
      "   macro avg       0.47      0.50      0.49      6552\n",
      "weighted avg       0.90      0.95      0.92      6552\n",
      "\n",
      "buildings\n",
      "              precision    recall  f1-score   support\n",
      "\n",
      "         0.0       0.95      1.00      0.97      6216\n",
      "         1.0       0.09      0.00      0.01       336\n",
      "\n",
      "    accuracy                           0.95      6552\n",
      "   macro avg       0.52      0.50      0.49      6552\n",
      "weighted avg       0.90      0.95      0.92      6552\n",
      "\n",
      "electricity\n",
      "              precision    recall  f1-score   support\n",
      "\n",
      "         0.0       0.98      1.00      0.99      6439\n",
      "         1.0       0.00      0.00      0.00       113\n",
      "\n",
      "    accuracy                           0.98      6552\n",
      "   macro avg       0.49      0.50      0.50      6552\n",
      "weighted avg       0.97      0.98      0.97      6552\n",
      "\n",
      "tools\n"
     ]
    },
    {
     "name": "stderr",
     "output_type": "stream",
     "text": [
      "C:\\Users\\sjhal\\Anaconda3\\envs\\disaster\\lib\\site-packages\\sklearn\\metrics\\_classification.py:1245: UndefinedMetricWarning: Precision and F-score are ill-defined and being set to 0.0 in labels with no predicted samples. Use `zero_division` parameter to control this behavior.\n",
      "  _warn_prf(average, modifier, msg_start, len(result))\n",
      "C:\\Users\\sjhal\\Anaconda3\\envs\\disaster\\lib\\site-packages\\sklearn\\metrics\\_classification.py:1245: UndefinedMetricWarning: Precision and F-score are ill-defined and being set to 0.0 in labels with no predicted samples. Use `zero_division` parameter to control this behavior.\n",
      "  _warn_prf(average, modifier, msg_start, len(result))\n",
      "C:\\Users\\sjhal\\Anaconda3\\envs\\disaster\\lib\\site-packages\\sklearn\\metrics\\_classification.py:1245: UndefinedMetricWarning: Precision and F-score are ill-defined and being set to 0.0 in labels with no predicted samples. Use `zero_division` parameter to control this behavior.\n",
      "  _warn_prf(average, modifier, msg_start, len(result))\n",
      "C:\\Users\\sjhal\\Anaconda3\\envs\\disaster\\lib\\site-packages\\sklearn\\metrics\\_classification.py:1245: UndefinedMetricWarning: Precision and F-score are ill-defined and being set to 0.0 in labels with no predicted samples. Use `zero_division` parameter to control this behavior.\n",
      "  _warn_prf(average, modifier, msg_start, len(result))\n",
      "C:\\Users\\sjhal\\Anaconda3\\envs\\disaster\\lib\\site-packages\\sklearn\\metrics\\_classification.py:1245: UndefinedMetricWarning: Precision and F-score are ill-defined and being set to 0.0 in labels with no predicted samples. Use `zero_division` parameter to control this behavior.\n",
      "  _warn_prf(average, modifier, msg_start, len(result))\n",
      "C:\\Users\\sjhal\\Anaconda3\\envs\\disaster\\lib\\site-packages\\sklearn\\metrics\\_classification.py:1245: UndefinedMetricWarning: Precision and F-score are ill-defined and being set to 0.0 in labels with no predicted samples. Use `zero_division` parameter to control this behavior.\n",
      "  _warn_prf(average, modifier, msg_start, len(result))\n",
      "C:\\Users\\sjhal\\Anaconda3\\envs\\disaster\\lib\\site-packages\\sklearn\\metrics\\_classification.py:1245: UndefinedMetricWarning: Precision and F-score are ill-defined and being set to 0.0 in labels with no predicted samples. Use `zero_division` parameter to control this behavior.\n",
      "  _warn_prf(average, modifier, msg_start, len(result))\n",
      "C:\\Users\\sjhal\\Anaconda3\\envs\\disaster\\lib\\site-packages\\sklearn\\metrics\\_classification.py:1245: UndefinedMetricWarning: Precision and F-score are ill-defined and being set to 0.0 in labels with no predicted samples. Use `zero_division` parameter to control this behavior.\n",
      "  _warn_prf(average, modifier, msg_start, len(result))\n",
      "C:\\Users\\sjhal\\Anaconda3\\envs\\disaster\\lib\\site-packages\\sklearn\\metrics\\_classification.py:1245: UndefinedMetricWarning: Precision and F-score are ill-defined and being set to 0.0 in labels with no predicted samples. Use `zero_division` parameter to control this behavior.\n",
      "  _warn_prf(average, modifier, msg_start, len(result))\n",
      "C:\\Users\\sjhal\\Anaconda3\\envs\\disaster\\lib\\site-packages\\sklearn\\metrics\\_classification.py:1245: UndefinedMetricWarning: Precision and F-score are ill-defined and being set to 0.0 in labels with no predicted samples. Use `zero_division` parameter to control this behavior.\n",
      "  _warn_prf(average, modifier, msg_start, len(result))\n",
      "C:\\Users\\sjhal\\Anaconda3\\envs\\disaster\\lib\\site-packages\\sklearn\\metrics\\_classification.py:1245: UndefinedMetricWarning: Precision and F-score are ill-defined and being set to 0.0 in labels with no predicted samples. Use `zero_division` parameter to control this behavior.\n",
      "  _warn_prf(average, modifier, msg_start, len(result))\n",
      "C:\\Users\\sjhal\\Anaconda3\\envs\\disaster\\lib\\site-packages\\sklearn\\metrics\\_classification.py:1245: UndefinedMetricWarning: Precision and F-score are ill-defined and being set to 0.0 in labels with no predicted samples. Use `zero_division` parameter to control this behavior.\n",
      "  _warn_prf(average, modifier, msg_start, len(result))\n"
     ]
    },
    {
     "name": "stdout",
     "output_type": "stream",
     "text": [
      "              precision    recall  f1-score   support\n",
      "\n",
      "         0.0       1.00      1.00      1.00      6523\n",
      "         1.0       0.00      0.00      0.00        29\n",
      "\n",
      "    accuracy                           1.00      6552\n",
      "   macro avg       0.50      0.50      0.50      6552\n",
      "weighted avg       0.99      1.00      0.99      6552\n",
      "\n",
      "hospitals\n",
      "              precision    recall  f1-score   support\n",
      "\n",
      "         0.0       0.99      1.00      1.00      6489\n",
      "         1.0       0.00      0.00      0.00        63\n",
      "\n",
      "    accuracy                           0.99      6552\n",
      "   macro avg       0.50      0.50      0.50      6552\n",
      "weighted avg       0.98      0.99      0.99      6552\n",
      "\n",
      "shops\n",
      "              precision    recall  f1-score   support\n",
      "\n",
      "         0.0       1.00      1.00      1.00      6523\n",
      "         1.0       0.00      0.00      0.00        29\n",
      "\n",
      "    accuracy                           1.00      6552\n",
      "   macro avg       0.50      0.50      0.50      6552\n",
      "weighted avg       0.99      1.00      0.99      6552\n",
      "\n",
      "aid_centers\n",
      "              precision    recall  f1-score   support\n",
      "\n",
      "         0.0       0.99      1.00      0.99      6477\n",
      "         1.0       0.00      0.00      0.00        75\n",
      "\n",
      "    accuracy                           0.99      6552\n",
      "   macro avg       0.49      0.50      0.50      6552\n",
      "weighted avg       0.98      0.99      0.98      6552\n",
      "\n",
      "other_infrastructure\n",
      "              precision    recall  f1-score   support\n",
      "\n",
      "         0.0       0.96      1.00      0.98      6270\n",
      "         1.0       0.14      0.00      0.01       282\n",
      "\n",
      "    accuracy                           0.96      6552\n",
      "   macro avg       0.55      0.50      0.49      6552\n",
      "weighted avg       0.92      0.96      0.94      6552\n",
      "\n",
      "weather_related\n",
      "              precision    recall  f1-score   support\n",
      "\n",
      "         0.0       0.74      0.96      0.84      4732\n",
      "         1.0       0.57      0.13      0.22      1820\n",
      "\n",
      "    accuracy                           0.73      6552\n",
      "   macro avg       0.66      0.55      0.53      6552\n",
      "weighted avg       0.69      0.73      0.67      6552\n",
      "\n",
      "floods\n",
      "              precision    recall  f1-score   support\n",
      "\n",
      "         0.0       0.92      1.00      0.95      5995\n",
      "         1.0       0.17      0.00      0.01       557\n",
      "\n",
      "    accuracy                           0.91      6552\n",
      "   macro avg       0.54      0.50      0.48      6552\n",
      "weighted avg       0.85      0.91      0.87      6552\n",
      "\n",
      "storm\n",
      "              precision    recall  f1-score   support\n",
      "\n",
      "         0.0       0.91      1.00      0.95      5964\n",
      "         1.0       0.50      0.03      0.05       588\n",
      "\n",
      "    accuracy                           0.91      6552\n",
      "   macro avg       0.71      0.51      0.50      6552\n",
      "weighted avg       0.88      0.91      0.87      6552\n",
      "\n",
      "fire\n",
      "              precision    recall  f1-score   support\n",
      "\n",
      "         0.0       0.99      1.00      0.99      6481\n",
      "         1.0       0.00      0.00      0.00        71\n",
      "\n",
      "    accuracy                           0.99      6552\n",
      "   macro avg       0.49      0.50      0.50      6552\n",
      "weighted avg       0.98      0.99      0.98      6552\n",
      "\n",
      "earthquake\n",
      "              precision    recall  f1-score   support\n",
      "\n",
      "         0.0       0.92      1.00      0.95      5928\n",
      "         1.0       0.75      0.13      0.22       624\n",
      "\n",
      "    accuracy                           0.91      6552\n",
      "   macro avg       0.83      0.56      0.59      6552\n",
      "weighted avg       0.90      0.91      0.88      6552\n",
      "\n",
      "cold\n",
      "              precision    recall  f1-score   support\n",
      "\n",
      "         0.0       0.98      1.00      0.99      6421\n",
      "         1.0       0.00      0.00      0.00       131\n",
      "\n",
      "    accuracy                           0.98      6552\n",
      "   macro avg       0.49      0.50      0.49      6552\n",
      "weighted avg       0.96      0.98      0.97      6552\n",
      "\n",
      "other_weather\n",
      "              precision    recall  f1-score   support\n",
      "\n",
      "         0.0       0.95      1.00      0.97      6197\n",
      "         1.0       0.00      0.00      0.00       355\n",
      "\n",
      "    accuracy                           0.94      6552\n",
      "   macro avg       0.47      0.50      0.49      6552\n",
      "weighted avg       0.89      0.94      0.92      6552\n",
      "\n",
      "direct_report\n",
      "              precision    recall  f1-score   support\n",
      "\n",
      "         0.0       0.81      0.99      0.89      5279\n",
      "         1.0       0.45      0.04      0.07      1273\n",
      "\n",
      "    accuracy                           0.80      6552\n",
      "   macro avg       0.63      0.51      0.48      6552\n",
      "weighted avg       0.74      0.80      0.73      6552\n",
      "\n"
     ]
    },
    {
     "name": "stderr",
     "output_type": "stream",
     "text": [
      "C:\\Users\\sjhal\\Anaconda3\\envs\\disaster\\lib\\site-packages\\sklearn\\metrics\\_classification.py:1245: UndefinedMetricWarning: Precision and F-score are ill-defined and being set to 0.0 in labels with no predicted samples. Use `zero_division` parameter to control this behavior.\n",
      "  _warn_prf(average, modifier, msg_start, len(result))\n",
      "C:\\Users\\sjhal\\Anaconda3\\envs\\disaster\\lib\\site-packages\\sklearn\\metrics\\_classification.py:1245: UndefinedMetricWarning: Precision and F-score are ill-defined and being set to 0.0 in labels with no predicted samples. Use `zero_division` parameter to control this behavior.\n",
      "  _warn_prf(average, modifier, msg_start, len(result))\n",
      "C:\\Users\\sjhal\\Anaconda3\\envs\\disaster\\lib\\site-packages\\sklearn\\metrics\\_classification.py:1245: UndefinedMetricWarning: Precision and F-score are ill-defined and being set to 0.0 in labels with no predicted samples. Use `zero_division` parameter to control this behavior.\n",
      "  _warn_prf(average, modifier, msg_start, len(result))\n",
      "C:\\Users\\sjhal\\Anaconda3\\envs\\disaster\\lib\\site-packages\\sklearn\\metrics\\_classification.py:1245: UndefinedMetricWarning: Precision and F-score are ill-defined and being set to 0.0 in labels with no predicted samples. Use `zero_division` parameter to control this behavior.\n",
      "  _warn_prf(average, modifier, msg_start, len(result))\n",
      "C:\\Users\\sjhal\\Anaconda3\\envs\\disaster\\lib\\site-packages\\sklearn\\metrics\\_classification.py:1245: UndefinedMetricWarning: Precision and F-score are ill-defined and being set to 0.0 in labels with no predicted samples. Use `zero_division` parameter to control this behavior.\n",
      "  _warn_prf(average, modifier, msg_start, len(result))\n",
      "C:\\Users\\sjhal\\Anaconda3\\envs\\disaster\\lib\\site-packages\\sklearn\\metrics\\_classification.py:1245: UndefinedMetricWarning: Precision and F-score are ill-defined and being set to 0.0 in labels with no predicted samples. Use `zero_division` parameter to control this behavior.\n",
      "  _warn_prf(average, modifier, msg_start, len(result))\n"
     ]
    }
   ],
   "source": [
    "for col in Y_test.columns:\n",
    "    print(col)\n",
    "    print(classification_report(Y_test[col], y_pred[col]))"
   ]
  },
  {
   "cell_type": "code",
   "execution_count": 45,
   "metadata": {
    "scrolled": true
   },
   "outputs": [
    {
     "data": {
      "text/plain": [
       "0.15842490842490842"
      ]
     },
     "execution_count": 45,
     "metadata": {},
     "output_type": "execute_result"
    }
   ],
   "source": [
    "pipeline.score(X_test, Y_test)"
   ]
  },
  {
   "cell_type": "code",
   "execution_count": 73,
   "metadata": {
    "scrolled": true
   },
   "outputs": [
    {
     "data": {
      "text/plain": [
       "0.9249974562474562"
      ]
     },
     "execution_count": 73,
     "metadata": {},
     "output_type": "execute_result"
    }
   ],
   "source": [
    "np.mean(np.mean(Y_test.reset_index(drop=True).eq(y_pred), axis=0))"
   ]
  },
  {
   "cell_type": "code",
   "execution_count": 102,
   "metadata": {},
   "outputs": [
    {
     "data": {
      "text/plain": [
       "0.27947202897169543"
      ]
     },
     "execution_count": 102,
     "metadata": {},
     "output_type": "execute_result"
    }
   ],
   "source": [
    "df_add = Y_test.reset_index(drop=True).add(y_pred, fill_value=0)\n",
    "(df_add[df_add == 2]/2).sum(axis=0, numeric_only=True).sum()/(Y_test.sum(axis=0, numeric_only=True).sum())"
   ]
  },
  {
   "cell_type": "markdown",
   "metadata": {},
   "source": [
    "### 6. Improve your model\n",
    "Use grid search to find better parameters. "
   ]
  },
  {
   "cell_type": "code",
   "execution_count": 46,
   "metadata": {
    "scrolled": true
   },
   "outputs": [
    {
     "data": {
      "text/plain": [
       "{'memory': None,\n",
       " 'steps': [('vect',\n",
       "   CountVectorizer(tokenizer=<function tokenize at 0x000001F7A8F769D0>)),\n",
       "  ('tfidf', TfidfTransformer()),\n",
       "  ('clf', MultiOutputClassifier(estimator=RandomForestClassifier()))],\n",
       " 'verbose': False,\n",
       " 'vect': CountVectorizer(tokenizer=<function tokenize at 0x000001F7A8F769D0>),\n",
       " 'tfidf': TfidfTransformer(),\n",
       " 'clf': MultiOutputClassifier(estimator=RandomForestClassifier()),\n",
       " 'vect__analyzer': 'word',\n",
       " 'vect__binary': False,\n",
       " 'vect__decode_error': 'strict',\n",
       " 'vect__dtype': numpy.int64,\n",
       " 'vect__encoding': 'utf-8',\n",
       " 'vect__input': 'content',\n",
       " 'vect__lowercase': True,\n",
       " 'vect__max_df': 1.0,\n",
       " 'vect__max_features': None,\n",
       " 'vect__min_df': 1,\n",
       " 'vect__ngram_range': (1, 1),\n",
       " 'vect__preprocessor': None,\n",
       " 'vect__stop_words': None,\n",
       " 'vect__strip_accents': None,\n",
       " 'vect__token_pattern': '(?u)\\\\b\\\\w\\\\w+\\\\b',\n",
       " 'vect__tokenizer': <function __main__.tokenize(text)>,\n",
       " 'vect__vocabulary': None,\n",
       " 'tfidf__norm': 'l2',\n",
       " 'tfidf__smooth_idf': True,\n",
       " 'tfidf__sublinear_tf': False,\n",
       " 'tfidf__use_idf': True,\n",
       " 'clf__estimator__bootstrap': True,\n",
       " 'clf__estimator__ccp_alpha': 0.0,\n",
       " 'clf__estimator__class_weight': None,\n",
       " 'clf__estimator__criterion': 'gini',\n",
       " 'clf__estimator__max_depth': None,\n",
       " 'clf__estimator__max_features': 'auto',\n",
       " 'clf__estimator__max_leaf_nodes': None,\n",
       " 'clf__estimator__max_samples': None,\n",
       " 'clf__estimator__min_impurity_decrease': 0.0,\n",
       " 'clf__estimator__min_impurity_split': None,\n",
       " 'clf__estimator__min_samples_leaf': 1,\n",
       " 'clf__estimator__min_samples_split': 2,\n",
       " 'clf__estimator__min_weight_fraction_leaf': 0.0,\n",
       " 'clf__estimator__n_estimators': 100,\n",
       " 'clf__estimator__n_jobs': None,\n",
       " 'clf__estimator__oob_score': False,\n",
       " 'clf__estimator__random_state': None,\n",
       " 'clf__estimator__verbose': 0,\n",
       " 'clf__estimator__warm_start': False,\n",
       " 'clf__estimator': RandomForestClassifier(),\n",
       " 'clf__n_jobs': None}"
      ]
     },
     "execution_count": 46,
     "metadata": {},
     "output_type": "execute_result"
    }
   ],
   "source": [
    "pipeline.get_params()"
   ]
  },
  {
   "cell_type": "code",
   "execution_count": 74,
   "metadata": {
    "scrolled": true
   },
   "outputs": [],
   "source": [
    "'''\n",
    "First Run of GridSearchCV on RandomForestClassifier\n",
    "1/18/21 11AM\n",
    "parameters = {'vect__max_df': [0.9, 1.0],\n",
    "              'vect__min_df': [0.0, 0.1],\n",
    "              'vect__max_features': [500, 1000, None],\n",
    "              'clf__estimator__n_estimators': [50, 100, 250]}\n",
    "              \n",
    "The best parameters across ALL searched params:\n",
    "{'clf__estimator__n_estimators': 250, 'vect__max_df': 0.9, 'vect__max_features': None, 'vect__min_df': 0.0}\n",
    "'''\n",
    "\n",
    "'''\n",
    "Second Run of GridSearchCV on RandomForestClassifier\n",
    "1/18/21 4PM\n",
    "parameters = {'vect__max_df': [0.8, 0.9],\n",
    "              'clf__estimator__n_estimators': [250, 400]}\n",
    "              \n",
    " The best parameters across ALL searched params:\n",
    " {'clf__estimator__n_estimators': 400, 'vect__max_df': 0.8}\n",
    "'''\n",
    "\n",
    "parameters = {'vect__max_df': [0.7, 0.8],\n",
    "              'clf__estimator__n_estimators': [400]}\n",
    "\n",
    "cv = GridSearchCV(estimator=pipeline, param_grid=parameters, n_jobs=6, cv=3, verbose=5)"
   ]
  },
  {
   "cell_type": "code",
   "execution_count": 75,
   "metadata": {
    "scrolled": true
   },
   "outputs": [
    {
     "name": "stdout",
     "output_type": "stream",
     "text": [
      "Fitting 3 folds for each of 2 candidates, totalling 6 fits\n"
     ]
    },
    {
     "data": {
      "text/plain": [
       "GridSearchCV(cv=3,\n",
       "             estimator=Pipeline(steps=[('vect',\n",
       "                                        CountVectorizer(tokenizer=<function tokenize at 0x000001F7A8F769D0>)),\n",
       "                                       ('tfidf', TfidfTransformer()),\n",
       "                                       ('clf',\n",
       "                                        MultiOutputClassifier(estimator=RandomForestClassifier()))]),\n",
       "             n_jobs=6,\n",
       "             param_grid={'clf__estimator__n_estimators': [400],\n",
       "                         'vect__max_df': [0.7, 0.8]},\n",
       "             verbose=5)"
      ]
     },
     "execution_count": 75,
     "metadata": {},
     "output_type": "execute_result"
    }
   ],
   "source": [
    "cv.fit(X_train, Y_train)"
   ]
  },
  {
   "cell_type": "code",
   "execution_count": 76,
   "metadata": {},
   "outputs": [
    {
     "name": "stdout",
     "output_type": "stream",
     "text": [
      " Results from Grid Search (model name: cv)\n",
      "\n",
      " The best estimator across ALL searched params:\n",
      " Pipeline(steps=[('vect',\n",
      "                 CountVectorizer(max_df=0.8,\n",
      "                                 tokenizer=<function tokenize at 0x000001F7A8F769D0>)),\n",
      "                ('tfidf', TfidfTransformer()),\n",
      "                ('clf',\n",
      "                 MultiOutputClassifier(estimator=RandomForestClassifier(n_estimators=400)))])\n",
      "\n",
      " The best score across ALL searched params:\n",
      " 0.16413120820844831\n",
      "\n",
      " The best parameters across ALL searched params:\n",
      " {'clf__estimator__n_estimators': 400, 'vect__max_df': 0.8}\n"
     ]
    }
   ],
   "source": [
    "print(\" Results from Grid Search (model name: cv)\" )\n",
    "print(\"\\n The best estimator across ALL searched params:\\n\",cv.best_estimator_)\n",
    "print(\"\\n The best score across ALL searched params:\\n\",cv.best_score_)\n",
    "print(\"\\n The best parameters across ALL searched params:\\n\",cv.best_params_)"
   ]
  },
  {
   "cell_type": "markdown",
   "metadata": {},
   "source": [
    "### 7. Test your model\n",
    "Show the accuracy, precision, and recall of the tuned model.  \n",
    "\n",
    "Since this project focuses on code quality, process, and  pipelines, there is no minimum performance metric needed to pass. However, make sure to fine tune your models for accuracy, precision and recall to make your project stand out - especially for your portfolio!"
   ]
  },
  {
   "cell_type": "code",
   "execution_count": 77,
   "metadata": {},
   "outputs": [],
   "source": [
    "y_pred_cv = cv.predict(X_test)"
   ]
  },
  {
   "cell_type": "code",
   "execution_count": 78,
   "metadata": {},
   "outputs": [],
   "source": [
    "y_pred_cv = pd.DataFrame(y_pred_cv,columns=Y_test.columns)"
   ]
  },
  {
   "cell_type": "code",
   "execution_count": 79,
   "metadata": {
    "scrolled": true
   },
   "outputs": [
    {
     "name": "stdout",
     "output_type": "stream",
     "text": [
      "related\n",
      "              precision    recall  f1-score   support\n",
      "\n",
      "         0.0       0.40      0.04      0.07      1503\n",
      "         1.0       0.77      0.98      0.86      5000\n",
      "         2.0       0.00      0.00      0.00        49\n",
      "\n",
      "    accuracy                           0.76      6552\n",
      "   macro avg       0.39      0.34      0.31      6552\n",
      "weighted avg       0.68      0.76      0.67      6552\n",
      "\n",
      "request\n",
      "              precision    recall  f1-score   support\n",
      "\n",
      "         0.0       0.83      0.99      0.90      5395\n",
      "         1.0       0.37      0.03      0.05      1157\n",
      "\n",
      "    accuracy                           0.82      6552\n",
      "   macro avg       0.60      0.51      0.48      6552\n",
      "weighted avg       0.75      0.82      0.75      6552\n",
      "\n",
      "offer\n",
      "              precision    recall  f1-score   support\n",
      "\n",
      "         0.0       1.00      1.00      1.00      6530\n",
      "         1.0       0.00      0.00      0.00        22\n",
      "\n",
      "    accuracy                           1.00      6552\n",
      "   macro avg       0.50      0.50      0.50      6552\n",
      "weighted avg       0.99      1.00      0.99      6552\n",
      "\n",
      "aid_related\n",
      "              precision    recall  f1-score   support\n",
      "\n",
      "         0.0       0.59      0.84      0.69      3815\n",
      "         1.0       0.45      0.19      0.26      2737\n",
      "\n",
      "    accuracy                           0.57      6552\n",
      "   macro avg       0.52      0.51      0.48      6552\n",
      "weighted avg       0.53      0.57      0.51      6552\n",
      "\n",
      "medical_help\n",
      "              precision    recall  f1-score   support\n",
      "\n",
      "         0.0       0.92      1.00      0.96      6032\n",
      "         1.0       0.00      0.00      0.00       520\n",
      "\n",
      "    accuracy                           0.92      6552\n",
      "   macro avg       0.46      0.50      0.48      6552\n",
      "weighted avg       0.85      0.92      0.88      6552\n",
      "\n",
      "medical_products\n",
      "              precision    recall  f1-score   support\n",
      "\n",
      "         0.0       0.95      1.00      0.97      6217\n",
      "         1.0       0.00      0.00      0.00       335\n",
      "\n",
      "    accuracy                           0.95      6552\n",
      "   macro avg       0.47      0.50      0.49      6552\n",
      "weighted avg       0.90      0.95      0.92      6552\n",
      "\n",
      "search_and_rescue\n",
      "              precision    recall  f1-score   support\n",
      "\n",
      "         0.0       0.97      1.00      0.99      6365\n",
      "         1.0       0.50      0.01      0.01       187\n",
      "\n",
      "    accuracy                           0.97      6552\n",
      "   macro avg       0.74      0.50      0.50      6552\n",
      "weighted avg       0.96      0.97      0.96      6552\n",
      "\n",
      "security\n",
      "              precision    recall  f1-score   support\n",
      "\n",
      "         0.0       0.98      1.00      0.99      6428\n",
      "         1.0       0.00      0.00      0.00       124\n",
      "\n",
      "    accuracy                           0.98      6552\n",
      "   macro avg       0.49      0.50      0.50      6552\n",
      "weighted avg       0.96      0.98      0.97      6552\n",
      "\n",
      "military\n"
     ]
    },
    {
     "name": "stderr",
     "output_type": "stream",
     "text": [
      "C:\\Users\\sjhal\\Anaconda3\\envs\\disaster\\lib\\site-packages\\sklearn\\metrics\\_classification.py:1245: UndefinedMetricWarning: Precision and F-score are ill-defined and being set to 0.0 in labels with no predicted samples. Use `zero_division` parameter to control this behavior.\n",
      "  _warn_prf(average, modifier, msg_start, len(result))\n",
      "C:\\Users\\sjhal\\Anaconda3\\envs\\disaster\\lib\\site-packages\\sklearn\\metrics\\_classification.py:1245: UndefinedMetricWarning: Precision and F-score are ill-defined and being set to 0.0 in labels with no predicted samples. Use `zero_division` parameter to control this behavior.\n",
      "  _warn_prf(average, modifier, msg_start, len(result))\n",
      "C:\\Users\\sjhal\\Anaconda3\\envs\\disaster\\lib\\site-packages\\sklearn\\metrics\\_classification.py:1245: UndefinedMetricWarning: Precision and F-score are ill-defined and being set to 0.0 in labels with no predicted samples. Use `zero_division` parameter to control this behavior.\n",
      "  _warn_prf(average, modifier, msg_start, len(result))\n"
     ]
    },
    {
     "name": "stdout",
     "output_type": "stream",
     "text": [
      "              precision    recall  f1-score   support\n",
      "\n",
      "         0.0       0.97      1.00      0.98      6330\n",
      "         1.0       0.00      0.00      0.00       222\n",
      "\n",
      "    accuracy                           0.97      6552\n",
      "   macro avg       0.48      0.50      0.49      6552\n",
      "weighted avg       0.93      0.97      0.95      6552\n",
      "\n",
      "child_alone\n",
      "              precision    recall  f1-score   support\n",
      "\n",
      "         0.0       1.00      1.00      1.00      6552\n",
      "\n",
      "    accuracy                           1.00      6552\n",
      "   macro avg       1.00      1.00      1.00      6552\n",
      "weighted avg       1.00      1.00      1.00      6552\n",
      "\n",
      "water\n",
      "              precision    recall  f1-score   support\n",
      "\n",
      "         0.0       0.93      1.00      0.96      6119\n",
      "         1.0       0.05      0.00      0.00       433\n",
      "\n",
      "    accuracy                           0.93      6552\n",
      "   macro avg       0.49      0.50      0.48      6552\n",
      "weighted avg       0.88      0.93      0.90      6552\n",
      "\n",
      "food\n",
      "              precision    recall  f1-score   support\n",
      "\n",
      "         0.0       0.88      1.00      0.94      5790\n",
      "         1.0       0.06      0.00      0.00       762\n",
      "\n",
      "    accuracy                           0.88      6552\n",
      "   macro avg       0.47      0.50      0.47      6552\n",
      "weighted avg       0.79      0.88      0.83      6552\n",
      "\n",
      "shelter\n",
      "              precision    recall  f1-score   support\n",
      "\n",
      "         0.0       0.91      1.00      0.95      5953\n",
      "         1.0       0.07      0.00      0.01       599\n",
      "\n",
      "    accuracy                           0.90      6552\n",
      "   macro avg       0.49      0.50      0.48      6552\n",
      "weighted avg       0.83      0.90      0.86      6552\n",
      "\n",
      "clothing\n",
      "              precision    recall  f1-score   support\n",
      "\n",
      "         0.0       0.99      1.00      0.99      6457\n",
      "         1.0       0.00      0.00      0.00        95\n",
      "\n",
      "    accuracy                           0.99      6552\n",
      "   macro avg       0.49      0.50      0.50      6552\n",
      "weighted avg       0.97      0.99      0.98      6552\n",
      "\n",
      "money\n",
      "              precision    recall  f1-score   support\n",
      "\n",
      "         0.0       0.98      1.00      0.99      6412\n",
      "         1.0       0.00      0.00      0.00       140\n",
      "\n",
      "    accuracy                           0.98      6552\n",
      "   macro avg       0.49      0.50      0.49      6552\n",
      "weighted avg       0.96      0.98      0.97      6552\n",
      "\n",
      "missing_people\n",
      "              precision    recall  f1-score   support\n",
      "\n",
      "         0.0       0.99      1.00      0.99      6465\n",
      "         1.0       0.00      0.00      0.00        87\n",
      "\n",
      "    accuracy                           0.99      6552\n",
      "   macro avg       0.49      0.50      0.50      6552\n",
      "weighted avg       0.97      0.99      0.98      6552\n",
      "\n",
      "refugees\n",
      "              precision    recall  f1-score   support\n",
      "\n",
      "         0.0       0.97      1.00      0.98      6324\n",
      "         1.0       0.00      0.00      0.00       228\n",
      "\n",
      "    accuracy                           0.97      6552\n",
      "   macro avg       0.48      0.50      0.49      6552\n",
      "weighted avg       0.93      0.97      0.95      6552\n",
      "\n",
      "death\n"
     ]
    },
    {
     "name": "stderr",
     "output_type": "stream",
     "text": [
      "C:\\Users\\sjhal\\Anaconda3\\envs\\disaster\\lib\\site-packages\\sklearn\\metrics\\_classification.py:1245: UndefinedMetricWarning: Precision and F-score are ill-defined and being set to 0.0 in labels with no predicted samples. Use `zero_division` parameter to control this behavior.\n",
      "  _warn_prf(average, modifier, msg_start, len(result))\n",
      "C:\\Users\\sjhal\\Anaconda3\\envs\\disaster\\lib\\site-packages\\sklearn\\metrics\\_classification.py:1245: UndefinedMetricWarning: Precision and F-score are ill-defined and being set to 0.0 in labels with no predicted samples. Use `zero_division` parameter to control this behavior.\n",
      "  _warn_prf(average, modifier, msg_start, len(result))\n",
      "C:\\Users\\sjhal\\Anaconda3\\envs\\disaster\\lib\\site-packages\\sklearn\\metrics\\_classification.py:1245: UndefinedMetricWarning: Precision and F-score are ill-defined and being set to 0.0 in labels with no predicted samples. Use `zero_division` parameter to control this behavior.\n",
      "  _warn_prf(average, modifier, msg_start, len(result))\n"
     ]
    },
    {
     "name": "stdout",
     "output_type": "stream",
     "text": [
      "              precision    recall  f1-score   support\n",
      "\n",
      "         0.0       0.95      1.00      0.98      6255\n",
      "         1.0       0.29      0.01      0.01       297\n",
      "\n",
      "    accuracy                           0.95      6552\n",
      "   macro avg       0.62      0.50      0.49      6552\n",
      "weighted avg       0.92      0.95      0.93      6552\n",
      "\n",
      "other_aid\n",
      "              precision    recall  f1-score   support\n",
      "\n",
      "         0.0       0.87      0.99      0.93      5710\n",
      "         1.0       0.08      0.01      0.01       842\n",
      "\n",
      "    accuracy                           0.86      6552\n",
      "   macro avg       0.47      0.50      0.47      6552\n",
      "weighted avg       0.77      0.86      0.81      6552\n",
      "\n",
      "infrastructure_related\n",
      "              precision    recall  f1-score   support\n",
      "\n",
      "         0.0       0.94      1.00      0.97      6127\n",
      "         1.0       0.14      0.00      0.00       425\n",
      "\n",
      "    accuracy                           0.93      6552\n",
      "   macro avg       0.54      0.50      0.49      6552\n",
      "weighted avg       0.88      0.93      0.90      6552\n",
      "\n",
      "transport\n",
      "              precision    recall  f1-score   support\n",
      "\n",
      "         0.0       0.95      1.00      0.97      6222\n",
      "         1.0       0.00      0.00      0.00       330\n",
      "\n",
      "    accuracy                           0.95      6552\n",
      "   macro avg       0.47      0.50      0.49      6552\n",
      "weighted avg       0.90      0.95      0.92      6552\n",
      "\n",
      "buildings\n",
      "              precision    recall  f1-score   support\n",
      "\n",
      "         0.0       0.95      1.00      0.97      6216\n",
      "         1.0       0.07      0.00      0.01       336\n",
      "\n",
      "    accuracy                           0.95      6552\n",
      "   macro avg       0.51      0.50      0.49      6552\n",
      "weighted avg       0.90      0.95      0.92      6552\n",
      "\n",
      "electricity\n",
      "              precision    recall  f1-score   support\n",
      "\n",
      "         0.0       0.98      1.00      0.99      6439\n",
      "         1.0       0.00      0.00      0.00       113\n",
      "\n",
      "    accuracy                           0.98      6552\n",
      "   macro avg       0.49      0.50      0.50      6552\n",
      "weighted avg       0.97      0.98      0.97      6552\n",
      "\n",
      "tools\n"
     ]
    },
    {
     "name": "stderr",
     "output_type": "stream",
     "text": [
      "C:\\Users\\sjhal\\Anaconda3\\envs\\disaster\\lib\\site-packages\\sklearn\\metrics\\_classification.py:1245: UndefinedMetricWarning: Precision and F-score are ill-defined and being set to 0.0 in labels with no predicted samples. Use `zero_division` parameter to control this behavior.\n",
      "  _warn_prf(average, modifier, msg_start, len(result))\n",
      "C:\\Users\\sjhal\\Anaconda3\\envs\\disaster\\lib\\site-packages\\sklearn\\metrics\\_classification.py:1245: UndefinedMetricWarning: Precision and F-score are ill-defined and being set to 0.0 in labels with no predicted samples. Use `zero_division` parameter to control this behavior.\n",
      "  _warn_prf(average, modifier, msg_start, len(result))\n",
      "C:\\Users\\sjhal\\Anaconda3\\envs\\disaster\\lib\\site-packages\\sklearn\\metrics\\_classification.py:1245: UndefinedMetricWarning: Precision and F-score are ill-defined and being set to 0.0 in labels with no predicted samples. Use `zero_division` parameter to control this behavior.\n",
      "  _warn_prf(average, modifier, msg_start, len(result))\n",
      "C:\\Users\\sjhal\\Anaconda3\\envs\\disaster\\lib\\site-packages\\sklearn\\metrics\\_classification.py:1245: UndefinedMetricWarning: Precision and F-score are ill-defined and being set to 0.0 in labels with no predicted samples. Use `zero_division` parameter to control this behavior.\n",
      "  _warn_prf(average, modifier, msg_start, len(result))\n",
      "C:\\Users\\sjhal\\Anaconda3\\envs\\disaster\\lib\\site-packages\\sklearn\\metrics\\_classification.py:1245: UndefinedMetricWarning: Precision and F-score are ill-defined and being set to 0.0 in labels with no predicted samples. Use `zero_division` parameter to control this behavior.\n",
      "  _warn_prf(average, modifier, msg_start, len(result))\n",
      "C:\\Users\\sjhal\\Anaconda3\\envs\\disaster\\lib\\site-packages\\sklearn\\metrics\\_classification.py:1245: UndefinedMetricWarning: Precision and F-score are ill-defined and being set to 0.0 in labels with no predicted samples. Use `zero_division` parameter to control this behavior.\n",
      "  _warn_prf(average, modifier, msg_start, len(result))\n",
      "C:\\Users\\sjhal\\Anaconda3\\envs\\disaster\\lib\\site-packages\\sklearn\\metrics\\_classification.py:1245: UndefinedMetricWarning: Precision and F-score are ill-defined and being set to 0.0 in labels with no predicted samples. Use `zero_division` parameter to control this behavior.\n",
      "  _warn_prf(average, modifier, msg_start, len(result))\n"
     ]
    },
    {
     "name": "stdout",
     "output_type": "stream",
     "text": [
      "              precision    recall  f1-score   support\n",
      "\n",
      "         0.0       1.00      1.00      1.00      6523\n",
      "         1.0       0.00      0.00      0.00        29\n",
      "\n",
      "    accuracy                           1.00      6552\n",
      "   macro avg       0.50      0.50      0.50      6552\n",
      "weighted avg       0.99      1.00      0.99      6552\n",
      "\n",
      "hospitals\n",
      "              precision    recall  f1-score   support\n",
      "\n",
      "         0.0       0.99      1.00      1.00      6489\n",
      "         1.0       0.00      0.00      0.00        63\n",
      "\n",
      "    accuracy                           0.99      6552\n",
      "   macro avg       0.50      0.50      0.50      6552\n",
      "weighted avg       0.98      0.99      0.99      6552\n",
      "\n",
      "shops\n",
      "              precision    recall  f1-score   support\n",
      "\n",
      "         0.0       1.00      1.00      1.00      6523\n",
      "         1.0       0.00      0.00      0.00        29\n",
      "\n",
      "    accuracy                           1.00      6552\n",
      "   macro avg       0.50      0.50      0.50      6552\n",
      "weighted avg       0.99      1.00      0.99      6552\n",
      "\n",
      "aid_centers\n"
     ]
    },
    {
     "name": "stderr",
     "output_type": "stream",
     "text": [
      "C:\\Users\\sjhal\\Anaconda3\\envs\\disaster\\lib\\site-packages\\sklearn\\metrics\\_classification.py:1245: UndefinedMetricWarning: Precision and F-score are ill-defined and being set to 0.0 in labels with no predicted samples. Use `zero_division` parameter to control this behavior.\n",
      "  _warn_prf(average, modifier, msg_start, len(result))\n",
      "C:\\Users\\sjhal\\Anaconda3\\envs\\disaster\\lib\\site-packages\\sklearn\\metrics\\_classification.py:1245: UndefinedMetricWarning: Precision and F-score are ill-defined and being set to 0.0 in labels with no predicted samples. Use `zero_division` parameter to control this behavior.\n",
      "  _warn_prf(average, modifier, msg_start, len(result))\n",
      "C:\\Users\\sjhal\\Anaconda3\\envs\\disaster\\lib\\site-packages\\sklearn\\metrics\\_classification.py:1245: UndefinedMetricWarning: Precision and F-score are ill-defined and being set to 0.0 in labels with no predicted samples. Use `zero_division` parameter to control this behavior.\n",
      "  _warn_prf(average, modifier, msg_start, len(result))\n",
      "C:\\Users\\sjhal\\Anaconda3\\envs\\disaster\\lib\\site-packages\\sklearn\\metrics\\_classification.py:1245: UndefinedMetricWarning: Precision and F-score are ill-defined and being set to 0.0 in labels with no predicted samples. Use `zero_division` parameter to control this behavior.\n",
      "  _warn_prf(average, modifier, msg_start, len(result))\n",
      "C:\\Users\\sjhal\\Anaconda3\\envs\\disaster\\lib\\site-packages\\sklearn\\metrics\\_classification.py:1245: UndefinedMetricWarning: Precision and F-score are ill-defined and being set to 0.0 in labels with no predicted samples. Use `zero_division` parameter to control this behavior.\n",
      "  _warn_prf(average, modifier, msg_start, len(result))\n"
     ]
    },
    {
     "name": "stdout",
     "output_type": "stream",
     "text": [
      "              precision    recall  f1-score   support\n",
      "\n",
      "         0.0       0.99      1.00      0.99      6477\n",
      "         1.0       0.00      0.00      0.00        75\n",
      "\n",
      "    accuracy                           0.99      6552\n",
      "   macro avg       0.49      0.50      0.50      6552\n",
      "weighted avg       0.98      0.99      0.98      6552\n",
      "\n",
      "other_infrastructure\n",
      "              precision    recall  f1-score   support\n",
      "\n",
      "         0.0       0.96      1.00      0.98      6270\n",
      "         1.0       0.17      0.00      0.01       282\n",
      "\n",
      "    accuracy                           0.96      6552\n",
      "   macro avg       0.56      0.50      0.49      6552\n",
      "weighted avg       0.92      0.96      0.94      6552\n",
      "\n",
      "weather_related\n",
      "              precision    recall  f1-score   support\n",
      "\n",
      "         0.0       0.74      0.96      0.84      4732\n",
      "         1.0       0.58      0.13      0.22      1820\n",
      "\n",
      "    accuracy                           0.73      6552\n",
      "   macro avg       0.66      0.55      0.53      6552\n",
      "weighted avg       0.70      0.73      0.67      6552\n",
      "\n",
      "floods\n",
      "              precision    recall  f1-score   support\n",
      "\n",
      "         0.0       0.92      1.00      0.96      5995\n",
      "         1.0       0.14      0.00      0.00       557\n",
      "\n",
      "    accuracy                           0.91      6552\n",
      "   macro avg       0.53      0.50      0.48      6552\n",
      "weighted avg       0.85      0.91      0.87      6552\n",
      "\n",
      "storm\n",
      "              precision    recall  f1-score   support\n",
      "\n",
      "         0.0       0.91      1.00      0.95      5964\n",
      "         1.0       0.48      0.02      0.04       588\n",
      "\n",
      "    accuracy                           0.91      6552\n",
      "   macro avg       0.70      0.51      0.50      6552\n",
      "weighted avg       0.87      0.91      0.87      6552\n",
      "\n",
      "fire\n",
      "              precision    recall  f1-score   support\n",
      "\n",
      "         0.0       0.99      1.00      0.99      6481\n",
      "         1.0       0.00      0.00      0.00        71\n",
      "\n",
      "    accuracy                           0.99      6552\n",
      "   macro avg       0.49      0.50      0.50      6552\n",
      "weighted avg       0.98      0.99      0.98      6552\n",
      "\n",
      "earthquake\n"
     ]
    },
    {
     "name": "stderr",
     "output_type": "stream",
     "text": [
      "C:\\Users\\sjhal\\Anaconda3\\envs\\disaster\\lib\\site-packages\\sklearn\\metrics\\_classification.py:1245: UndefinedMetricWarning: Precision and F-score are ill-defined and being set to 0.0 in labels with no predicted samples. Use `zero_division` parameter to control this behavior.\n",
      "  _warn_prf(average, modifier, msg_start, len(result))\n",
      "C:\\Users\\sjhal\\Anaconda3\\envs\\disaster\\lib\\site-packages\\sklearn\\metrics\\_classification.py:1245: UndefinedMetricWarning: Precision and F-score are ill-defined and being set to 0.0 in labels with no predicted samples. Use `zero_division` parameter to control this behavior.\n",
      "  _warn_prf(average, modifier, msg_start, len(result))\n",
      "C:\\Users\\sjhal\\Anaconda3\\envs\\disaster\\lib\\site-packages\\sklearn\\metrics\\_classification.py:1245: UndefinedMetricWarning: Precision and F-score are ill-defined and being set to 0.0 in labels with no predicted samples. Use `zero_division` parameter to control this behavior.\n",
      "  _warn_prf(average, modifier, msg_start, len(result))\n",
      "C:\\Users\\sjhal\\Anaconda3\\envs\\disaster\\lib\\site-packages\\sklearn\\metrics\\_classification.py:1245: UndefinedMetricWarning: Precision and F-score are ill-defined and being set to 0.0 in labels with no predicted samples. Use `zero_division` parameter to control this behavior.\n",
      "  _warn_prf(average, modifier, msg_start, len(result))\n"
     ]
    },
    {
     "name": "stdout",
     "output_type": "stream",
     "text": [
      "              precision    recall  f1-score   support\n",
      "\n",
      "         0.0       0.92      1.00      0.95      5928\n",
      "         1.0       0.74      0.13      0.22       624\n",
      "\n",
      "    accuracy                           0.91      6552\n",
      "   macro avg       0.83      0.56      0.59      6552\n",
      "weighted avg       0.90      0.91      0.88      6552\n",
      "\n",
      "cold\n",
      "              precision    recall  f1-score   support\n",
      "\n",
      "         0.0       0.98      1.00      0.99      6421\n",
      "         1.0       0.00      0.00      0.00       131\n",
      "\n",
      "    accuracy                           0.98      6552\n",
      "   macro avg       0.49      0.50      0.49      6552\n",
      "weighted avg       0.96      0.98      0.97      6552\n",
      "\n",
      "other_weather\n",
      "              precision    recall  f1-score   support\n",
      "\n",
      "         0.0       0.95      1.00      0.97      6197\n",
      "         1.0       0.00      0.00      0.00       355\n",
      "\n",
      "    accuracy                           0.94      6552\n",
      "   macro avg       0.47      0.50      0.49      6552\n",
      "weighted avg       0.89      0.94      0.92      6552\n",
      "\n",
      "direct_report\n",
      "              precision    recall  f1-score   support\n",
      "\n",
      "         0.0       0.81      0.99      0.89      5279\n",
      "         1.0       0.34      0.02      0.05      1273\n",
      "\n",
      "    accuracy                           0.80      6552\n",
      "   macro avg       0.57      0.51      0.47      6552\n",
      "weighted avg       0.72      0.80      0.73      6552\n",
      "\n"
     ]
    },
    {
     "name": "stderr",
     "output_type": "stream",
     "text": [
      "C:\\Users\\sjhal\\Anaconda3\\envs\\disaster\\lib\\site-packages\\sklearn\\metrics\\_classification.py:1245: UndefinedMetricWarning: Precision and F-score are ill-defined and being set to 0.0 in labels with no predicted samples. Use `zero_division` parameter to control this behavior.\n",
      "  _warn_prf(average, modifier, msg_start, len(result))\n",
      "C:\\Users\\sjhal\\Anaconda3\\envs\\disaster\\lib\\site-packages\\sklearn\\metrics\\_classification.py:1245: UndefinedMetricWarning: Precision and F-score are ill-defined and being set to 0.0 in labels with no predicted samples. Use `zero_division` parameter to control this behavior.\n",
      "  _warn_prf(average, modifier, msg_start, len(result))\n"
     ]
    }
   ],
   "source": [
    "for col in Y_test.columns:\n",
    "    print(col)\n",
    "    print(classification_report(Y_test[col], y_pred_cv[col]))"
   ]
  },
  {
   "cell_type": "code",
   "execution_count": 80,
   "metadata": {},
   "outputs": [
    {
     "data": {
      "text/plain": [
       "0.15827228327228327"
      ]
     },
     "execution_count": 80,
     "metadata": {},
     "output_type": "execute_result"
    }
   ],
   "source": [
    "cv.score(X_test, Y_test)"
   ]
  },
  {
   "cell_type": "code",
   "execution_count": 81,
   "metadata": {
    "scrolled": true
   },
   "outputs": [
    {
     "data": {
      "text/plain": [
       "0.9249592999592999"
      ]
     },
     "execution_count": 81,
     "metadata": {},
     "output_type": "execute_result"
    }
   ],
   "source": [
    "np.mean(np.mean(Y_test.reset_index(drop=True).eq(y_pred_cv), axis=0))"
   ]
  },
  {
   "cell_type": "code",
   "execution_count": 101,
   "metadata": {},
   "outputs": [
    {
     "data": {
      "text/plain": [
       "0.27828075860097207"
      ]
     },
     "execution_count": 101,
     "metadata": {},
     "output_type": "execute_result"
    }
   ],
   "source": [
    "df_add = Y_test.reset_index(drop=True).add(y_pred_cv, fill_value=0)\n",
    "(df_add[df_add == 2]/2).sum(axis=0, numeric_only=True).sum()/(Y_test.sum(axis=0, numeric_only=True).sum())"
   ]
  },
  {
   "cell_type": "markdown",
   "metadata": {},
   "source": [
    "### 8. Try improving your model further. Here are a few ideas:\n",
    "* try other machine learning algorithms\n",
    "* add other features besides the TF-IDF"
   ]
  },
  {
   "cell_type": "code",
   "execution_count": 55,
   "metadata": {},
   "outputs": [],
   "source": [
    "pipeline2 = Pipeline([\n",
    "    ('vect', CountVectorizer(tokenizer=tokenize)),\n",
    "    ('tfidf', TfidfTransformer()),\n",
    "    ('clf', MultiOutputClassifier(estimator=KNeighborsClassifier()))\n",
    "])"
   ]
  },
  {
   "cell_type": "code",
   "execution_count": 56,
   "metadata": {},
   "outputs": [
    {
     "data": {
      "text/plain": [
       "{'memory': None,\n",
       " 'steps': [('vect',\n",
       "   CountVectorizer(tokenizer=<function tokenize at 0x000001F7A8F769D0>)),\n",
       "  ('tfidf', TfidfTransformer()),\n",
       "  ('clf', MultiOutputClassifier(estimator=KNeighborsClassifier()))],\n",
       " 'verbose': False,\n",
       " 'vect': CountVectorizer(tokenizer=<function tokenize at 0x000001F7A8F769D0>),\n",
       " 'tfidf': TfidfTransformer(),\n",
       " 'clf': MultiOutputClassifier(estimator=KNeighborsClassifier()),\n",
       " 'vect__analyzer': 'word',\n",
       " 'vect__binary': False,\n",
       " 'vect__decode_error': 'strict',\n",
       " 'vect__dtype': numpy.int64,\n",
       " 'vect__encoding': 'utf-8',\n",
       " 'vect__input': 'content',\n",
       " 'vect__lowercase': True,\n",
       " 'vect__max_df': 1.0,\n",
       " 'vect__max_features': None,\n",
       " 'vect__min_df': 1,\n",
       " 'vect__ngram_range': (1, 1),\n",
       " 'vect__preprocessor': None,\n",
       " 'vect__stop_words': None,\n",
       " 'vect__strip_accents': None,\n",
       " 'vect__token_pattern': '(?u)\\\\b\\\\w\\\\w+\\\\b',\n",
       " 'vect__tokenizer': <function __main__.tokenize(text)>,\n",
       " 'vect__vocabulary': None,\n",
       " 'tfidf__norm': 'l2',\n",
       " 'tfidf__smooth_idf': True,\n",
       " 'tfidf__sublinear_tf': False,\n",
       " 'tfidf__use_idf': True,\n",
       " 'clf__estimator__algorithm': 'auto',\n",
       " 'clf__estimator__leaf_size': 30,\n",
       " 'clf__estimator__metric': 'minkowski',\n",
       " 'clf__estimator__metric_params': None,\n",
       " 'clf__estimator__n_jobs': None,\n",
       " 'clf__estimator__n_neighbors': 5,\n",
       " 'clf__estimator__p': 2,\n",
       " 'clf__estimator__weights': 'uniform',\n",
       " 'clf__estimator': KNeighborsClassifier(),\n",
       " 'clf__n_jobs': None}"
      ]
     },
     "execution_count": 56,
     "metadata": {},
     "output_type": "execute_result"
    }
   ],
   "source": [
    "pipeline2.get_params()"
   ]
  },
  {
   "cell_type": "code",
   "execution_count": 57,
   "metadata": {},
   "outputs": [],
   "source": [
    "'''\n",
    "First Run of GridSearchCV with KNearestNeighbors\n",
    "1/18/21 3PM\n",
    "parameters = {'clf__estimator__n_neighbors': [5,7],\n",
    "              'clf__estimator__weights': ['uniform', 'distance']}\n",
    "\n",
    "The best parameters across ALL searched params:\n",
    " {'clf__estimator__n_neighbors': 7, 'clf__estimator__weights': 'uniform'}              \n",
    "'''\n",
    "\n",
    "parameters = {'clf__estimator__n_neighbors': [7, 9, 11]}\n",
    "\n",
    "cv2 = GridSearchCV(estimator=pipeline2, param_grid=parameters, n_jobs=6, cv=3, verbose=5)"
   ]
  },
  {
   "cell_type": "code",
   "execution_count": 58,
   "metadata": {
    "scrolled": true
   },
   "outputs": [
    {
     "name": "stdout",
     "output_type": "stream",
     "text": [
      "Fitting 3 folds for each of 3 candidates, totalling 9 fits\n"
     ]
    },
    {
     "data": {
      "text/plain": [
       "GridSearchCV(cv=3,\n",
       "             estimator=Pipeline(steps=[('vect',\n",
       "                                        CountVectorizer(tokenizer=<function tokenize at 0x000001F7A8F769D0>)),\n",
       "                                       ('tfidf', TfidfTransformer()),\n",
       "                                       ('clf',\n",
       "                                        MultiOutputClassifier(estimator=KNeighborsClassifier()))]),\n",
       "             n_jobs=6, param_grid={'clf__estimator__n_neighbors': [7, 9, 11]},\n",
       "             verbose=5)"
      ]
     },
     "execution_count": 58,
     "metadata": {},
     "output_type": "execute_result"
    }
   ],
   "source": [
    "cv2.fit(X_train, Y_train)"
   ]
  },
  {
   "cell_type": "code",
   "execution_count": 59,
   "metadata": {},
   "outputs": [
    {
     "name": "stdout",
     "output_type": "stream",
     "text": [
      " Results from Grid Search (model name: cv2)\n",
      "\n",
      " The best estimator across ALL searched params:\n",
      " Pipeline(steps=[('vect',\n",
      "                 CountVectorizer(tokenizer=<function tokenize at 0x000001F7A8F769D0>)),\n",
      "                ('tfidf', TfidfTransformer()),\n",
      "                ('clf',\n",
      "                 MultiOutputClassifier(estimator=KNeighborsClassifier(n_neighbors=11)))])\n",
      "\n",
      " The best score across ALL searched params:\n",
      " 0.1638262996070964\n",
      "\n",
      " The best parameters across ALL searched params:\n",
      " {'clf__estimator__n_neighbors': 11}\n"
     ]
    }
   ],
   "source": [
    "print(\" Results from Grid Search (model name: cv2)\" )\n",
    "print(\"\\n The best estimator across ALL searched params:\\n\",cv2.best_estimator_)\n",
    "print(\"\\n The best score across ALL searched params:\\n\",cv2.best_score_)\n",
    "print(\"\\n The best parameters across ALL searched params:\\n\",cv2.best_params_)"
   ]
  },
  {
   "cell_type": "code",
   "execution_count": 60,
   "metadata": {},
   "outputs": [],
   "source": [
    "y_pred2 = cv2.predict(X_test)"
   ]
  },
  {
   "cell_type": "code",
   "execution_count": 61,
   "metadata": {},
   "outputs": [],
   "source": [
    "y_pred2 = pd.DataFrame(y_pred2,columns=Y_test.columns)"
   ]
  },
  {
   "cell_type": "code",
   "execution_count": 62,
   "metadata": {},
   "outputs": [
    {
     "name": "stdout",
     "output_type": "stream",
     "text": [
      "related\n",
      "              precision    recall  f1-score   support\n",
      "\n",
      "         0.0       0.29      0.12      0.17      1503\n",
      "         1.0       0.77      0.92      0.84      5000\n",
      "         2.0       0.33      0.04      0.07        49\n",
      "\n",
      "    accuracy                           0.73      6552\n",
      "   macro avg       0.47      0.36      0.36      6552\n",
      "weighted avg       0.66      0.73      0.68      6552\n",
      "\n",
      "request\n",
      "              precision    recall  f1-score   support\n",
      "\n",
      "         0.0       0.83      0.98      0.90      5395\n",
      "         1.0       0.37      0.05      0.09      1157\n",
      "\n",
      "    accuracy                           0.82      6552\n",
      "   macro avg       0.60      0.52      0.49      6552\n",
      "weighted avg       0.75      0.82      0.76      6552\n",
      "\n",
      "offer\n",
      "              precision    recall  f1-score   support\n",
      "\n",
      "         0.0       1.00      1.00      1.00      6530\n",
      "         1.0       0.00      0.00      0.00        22\n",
      "\n",
      "    accuracy                           1.00      6552\n",
      "   macro avg       0.50      0.50      0.50      6552\n",
      "weighted avg       0.99      1.00      0.99      6552\n",
      "\n",
      "aid_related\n"
     ]
    },
    {
     "name": "stderr",
     "output_type": "stream",
     "text": [
      "C:\\Users\\sjhal\\Anaconda3\\envs\\disaster\\lib\\site-packages\\sklearn\\metrics\\_classification.py:1245: UndefinedMetricWarning: Precision and F-score are ill-defined and being set to 0.0 in labels with no predicted samples. Use `zero_division` parameter to control this behavior.\n",
      "  _warn_prf(average, modifier, msg_start, len(result))\n",
      "C:\\Users\\sjhal\\Anaconda3\\envs\\disaster\\lib\\site-packages\\sklearn\\metrics\\_classification.py:1245: UndefinedMetricWarning: Precision and F-score are ill-defined and being set to 0.0 in labels with no predicted samples. Use `zero_division` parameter to control this behavior.\n",
      "  _warn_prf(average, modifier, msg_start, len(result))\n",
      "C:\\Users\\sjhal\\Anaconda3\\envs\\disaster\\lib\\site-packages\\sklearn\\metrics\\_classification.py:1245: UndefinedMetricWarning: Precision and F-score are ill-defined and being set to 0.0 in labels with no predicted samples. Use `zero_division` parameter to control this behavior.\n",
      "  _warn_prf(average, modifier, msg_start, len(result))\n",
      "C:\\Users\\sjhal\\Anaconda3\\envs\\disaster\\lib\\site-packages\\sklearn\\metrics\\_classification.py:1245: UndefinedMetricWarning: Precision and F-score are ill-defined and being set to 0.0 in labels with no predicted samples. Use `zero_division` parameter to control this behavior.\n",
      "  _warn_prf(average, modifier, msg_start, len(result))\n"
     ]
    },
    {
     "name": "stdout",
     "output_type": "stream",
     "text": [
      "              precision    recall  f1-score   support\n",
      "\n",
      "         0.0       0.59      0.89      0.71      3815\n",
      "         1.0       0.45      0.13      0.20      2737\n",
      "\n",
      "    accuracy                           0.57      6552\n",
      "   macro avg       0.52      0.51      0.45      6552\n",
      "weighted avg       0.53      0.57      0.49      6552\n",
      "\n",
      "medical_help\n",
      "              precision    recall  f1-score   support\n",
      "\n",
      "         0.0       0.92      1.00      0.96      6032\n",
      "         1.0       0.00      0.00      0.00       520\n",
      "\n",
      "    accuracy                           0.92      6552\n",
      "   macro avg       0.46      0.50      0.48      6552\n",
      "weighted avg       0.85      0.92      0.88      6552\n",
      "\n",
      "medical_products\n",
      "              precision    recall  f1-score   support\n",
      "\n",
      "         0.0       0.95      1.00      0.97      6217\n",
      "         1.0       0.00      0.00      0.00       335\n",
      "\n",
      "    accuracy                           0.95      6552\n",
      "   macro avg       0.47      0.50      0.49      6552\n",
      "weighted avg       0.90      0.95      0.92      6552\n",
      "\n",
      "search_and_rescue\n",
      "              precision    recall  f1-score   support\n",
      "\n",
      "         0.0       0.97      1.00      0.99      6365\n",
      "         1.0       0.00      0.00      0.00       187\n",
      "\n",
      "    accuracy                           0.97      6552\n",
      "   macro avg       0.49      0.50      0.49      6552\n",
      "weighted avg       0.94      0.97      0.96      6552\n",
      "\n",
      "security\n"
     ]
    },
    {
     "name": "stderr",
     "output_type": "stream",
     "text": [
      "C:\\Users\\sjhal\\Anaconda3\\envs\\disaster\\lib\\site-packages\\sklearn\\metrics\\_classification.py:1245: UndefinedMetricWarning: Precision and F-score are ill-defined and being set to 0.0 in labels with no predicted samples. Use `zero_division` parameter to control this behavior.\n",
      "  _warn_prf(average, modifier, msg_start, len(result))\n",
      "C:\\Users\\sjhal\\Anaconda3\\envs\\disaster\\lib\\site-packages\\sklearn\\metrics\\_classification.py:1245: UndefinedMetricWarning: Precision and F-score are ill-defined and being set to 0.0 in labels with no predicted samples. Use `zero_division` parameter to control this behavior.\n",
      "  _warn_prf(average, modifier, msg_start, len(result))\n",
      "C:\\Users\\sjhal\\Anaconda3\\envs\\disaster\\lib\\site-packages\\sklearn\\metrics\\_classification.py:1245: UndefinedMetricWarning: Precision and F-score are ill-defined and being set to 0.0 in labels with no predicted samples. Use `zero_division` parameter to control this behavior.\n",
      "  _warn_prf(average, modifier, msg_start, len(result))\n",
      "C:\\Users\\sjhal\\Anaconda3\\envs\\disaster\\lib\\site-packages\\sklearn\\metrics\\_classification.py:1245: UndefinedMetricWarning: Precision and F-score are ill-defined and being set to 0.0 in labels with no predicted samples. Use `zero_division` parameter to control this behavior.\n",
      "  _warn_prf(average, modifier, msg_start, len(result))\n",
      "C:\\Users\\sjhal\\Anaconda3\\envs\\disaster\\lib\\site-packages\\sklearn\\metrics\\_classification.py:1245: UndefinedMetricWarning: Precision and F-score are ill-defined and being set to 0.0 in labels with no predicted samples. Use `zero_division` parameter to control this behavior.\n",
      "  _warn_prf(average, modifier, msg_start, len(result))\n",
      "C:\\Users\\sjhal\\Anaconda3\\envs\\disaster\\lib\\site-packages\\sklearn\\metrics\\_classification.py:1245: UndefinedMetricWarning: Precision and F-score are ill-defined and being set to 0.0 in labels with no predicted samples. Use `zero_division` parameter to control this behavior.\n",
      "  _warn_prf(average, modifier, msg_start, len(result))\n",
      "C:\\Users\\sjhal\\Anaconda3\\envs\\disaster\\lib\\site-packages\\sklearn\\metrics\\_classification.py:1245: UndefinedMetricWarning: Precision and F-score are ill-defined and being set to 0.0 in labels with no predicted samples. Use `zero_division` parameter to control this behavior.\n",
      "  _warn_prf(average, modifier, msg_start, len(result))\n",
      "C:\\Users\\sjhal\\Anaconda3\\envs\\disaster\\lib\\site-packages\\sklearn\\metrics\\_classification.py:1245: UndefinedMetricWarning: Precision and F-score are ill-defined and being set to 0.0 in labels with no predicted samples. Use `zero_division` parameter to control this behavior.\n",
      "  _warn_prf(average, modifier, msg_start, len(result))\n",
      "C:\\Users\\sjhal\\Anaconda3\\envs\\disaster\\lib\\site-packages\\sklearn\\metrics\\_classification.py:1245: UndefinedMetricWarning: Precision and F-score are ill-defined and being set to 0.0 in labels with no predicted samples. Use `zero_division` parameter to control this behavior.\n",
      "  _warn_prf(average, modifier, msg_start, len(result))\n",
      "C:\\Users\\sjhal\\Anaconda3\\envs\\disaster\\lib\\site-packages\\sklearn\\metrics\\_classification.py:1245: UndefinedMetricWarning: Precision and F-score are ill-defined and being set to 0.0 in labels with no predicted samples. Use `zero_division` parameter to control this behavior.\n",
      "  _warn_prf(average, modifier, msg_start, len(result))\n"
     ]
    },
    {
     "name": "stdout",
     "output_type": "stream",
     "text": [
      "              precision    recall  f1-score   support\n",
      "\n",
      "         0.0       0.98      1.00      0.99      6428\n",
      "         1.0       0.00      0.00      0.00       124\n",
      "\n",
      "    accuracy                           0.98      6552\n",
      "   macro avg       0.49      0.50      0.50      6552\n",
      "weighted avg       0.96      0.98      0.97      6552\n",
      "\n",
      "military\n",
      "              precision    recall  f1-score   support\n",
      "\n",
      "         0.0       0.97      1.00      0.98      6330\n",
      "         1.0       0.00      0.00      0.00       222\n",
      "\n",
      "    accuracy                           0.97      6552\n",
      "   macro avg       0.48      0.50      0.49      6552\n",
      "weighted avg       0.93      0.97      0.95      6552\n",
      "\n",
      "child_alone\n",
      "              precision    recall  f1-score   support\n",
      "\n",
      "         0.0       1.00      1.00      1.00      6552\n",
      "\n",
      "    accuracy                           1.00      6552\n",
      "   macro avg       1.00      1.00      1.00      6552\n",
      "weighted avg       1.00      1.00      1.00      6552\n",
      "\n",
      "water\n",
      "              precision    recall  f1-score   support\n",
      "\n",
      "         0.0       0.93      1.00      0.97      6119\n",
      "         1.0       0.00      0.00      0.00       433\n",
      "\n",
      "    accuracy                           0.93      6552\n",
      "   macro avg       0.47      0.50      0.48      6552\n",
      "weighted avg       0.87      0.93      0.90      6552\n",
      "\n",
      "food\n"
     ]
    },
    {
     "name": "stderr",
     "output_type": "stream",
     "text": [
      "C:\\Users\\sjhal\\Anaconda3\\envs\\disaster\\lib\\site-packages\\sklearn\\metrics\\_classification.py:1245: UndefinedMetricWarning: Precision and F-score are ill-defined and being set to 0.0 in labels with no predicted samples. Use `zero_division` parameter to control this behavior.\n",
      "  _warn_prf(average, modifier, msg_start, len(result))\n",
      "C:\\Users\\sjhal\\Anaconda3\\envs\\disaster\\lib\\site-packages\\sklearn\\metrics\\_classification.py:1245: UndefinedMetricWarning: Precision and F-score are ill-defined and being set to 0.0 in labels with no predicted samples. Use `zero_division` parameter to control this behavior.\n",
      "  _warn_prf(average, modifier, msg_start, len(result))\n",
      "C:\\Users\\sjhal\\Anaconda3\\envs\\disaster\\lib\\site-packages\\sklearn\\metrics\\_classification.py:1245: UndefinedMetricWarning: Precision and F-score are ill-defined and being set to 0.0 in labels with no predicted samples. Use `zero_division` parameter to control this behavior.\n",
      "  _warn_prf(average, modifier, msg_start, len(result))\n",
      "C:\\Users\\sjhal\\Anaconda3\\envs\\disaster\\lib\\site-packages\\sklearn\\metrics\\_classification.py:1245: UndefinedMetricWarning: Precision and F-score are ill-defined and being set to 0.0 in labels with no predicted samples. Use `zero_division` parameter to control this behavior.\n",
      "  _warn_prf(average, modifier, msg_start, len(result))\n"
     ]
    },
    {
     "name": "stdout",
     "output_type": "stream",
     "text": [
      "              precision    recall  f1-score   support\n",
      "\n",
      "         0.0       0.88      1.00      0.94      5790\n",
      "         1.0       0.60      0.00      0.01       762\n",
      "\n",
      "    accuracy                           0.88      6552\n",
      "   macro avg       0.74      0.50      0.47      6552\n",
      "weighted avg       0.85      0.88      0.83      6552\n",
      "\n",
      "shelter\n",
      "              precision    recall  f1-score   support\n",
      "\n",
      "         0.0       0.91      1.00      0.95      5953\n",
      "         1.0       0.00      0.00      0.00       599\n",
      "\n",
      "    accuracy                           0.91      6552\n",
      "   macro avg       0.45      0.50      0.48      6552\n",
      "weighted avg       0.83      0.91      0.87      6552\n",
      "\n",
      "clothing\n",
      "              precision    recall  f1-score   support\n",
      "\n",
      "         0.0       0.99      1.00      0.99      6457\n",
      "         1.0       0.00      0.00      0.00        95\n",
      "\n",
      "    accuracy                           0.99      6552\n",
      "   macro avg       0.49      0.50      0.50      6552\n",
      "weighted avg       0.97      0.99      0.98      6552\n",
      "\n",
      "money\n",
      "              precision    recall  f1-score   support\n",
      "\n",
      "         0.0       0.98      1.00      0.99      6412\n",
      "         1.0       0.00      0.00      0.00       140\n",
      "\n",
      "    accuracy                           0.98      6552\n",
      "   macro avg       0.49      0.50      0.49      6552\n",
      "weighted avg       0.96      0.98      0.97      6552\n",
      "\n",
      "missing_people\n"
     ]
    },
    {
     "name": "stderr",
     "output_type": "stream",
     "text": [
      "C:\\Users\\sjhal\\Anaconda3\\envs\\disaster\\lib\\site-packages\\sklearn\\metrics\\_classification.py:1245: UndefinedMetricWarning: Precision and F-score are ill-defined and being set to 0.0 in labels with no predicted samples. Use `zero_division` parameter to control this behavior.\n",
      "  _warn_prf(average, modifier, msg_start, len(result))\n",
      "C:\\Users\\sjhal\\Anaconda3\\envs\\disaster\\lib\\site-packages\\sklearn\\metrics\\_classification.py:1245: UndefinedMetricWarning: Precision and F-score are ill-defined and being set to 0.0 in labels with no predicted samples. Use `zero_division` parameter to control this behavior.\n",
      "  _warn_prf(average, modifier, msg_start, len(result))\n",
      "C:\\Users\\sjhal\\Anaconda3\\envs\\disaster\\lib\\site-packages\\sklearn\\metrics\\_classification.py:1245: UndefinedMetricWarning: Precision and F-score are ill-defined and being set to 0.0 in labels with no predicted samples. Use `zero_division` parameter to control this behavior.\n",
      "  _warn_prf(average, modifier, msg_start, len(result))\n",
      "C:\\Users\\sjhal\\Anaconda3\\envs\\disaster\\lib\\site-packages\\sklearn\\metrics\\_classification.py:1245: UndefinedMetricWarning: Precision and F-score are ill-defined and being set to 0.0 in labels with no predicted samples. Use `zero_division` parameter to control this behavior.\n",
      "  _warn_prf(average, modifier, msg_start, len(result))\n",
      "C:\\Users\\sjhal\\Anaconda3\\envs\\disaster\\lib\\site-packages\\sklearn\\metrics\\_classification.py:1245: UndefinedMetricWarning: Precision and F-score are ill-defined and being set to 0.0 in labels with no predicted samples. Use `zero_division` parameter to control this behavior.\n",
      "  _warn_prf(average, modifier, msg_start, len(result))\n",
      "C:\\Users\\sjhal\\Anaconda3\\envs\\disaster\\lib\\site-packages\\sklearn\\metrics\\_classification.py:1245: UndefinedMetricWarning: Precision and F-score are ill-defined and being set to 0.0 in labels with no predicted samples. Use `zero_division` parameter to control this behavior.\n",
      "  _warn_prf(average, modifier, msg_start, len(result))\n",
      "C:\\Users\\sjhal\\Anaconda3\\envs\\disaster\\lib\\site-packages\\sklearn\\metrics\\_classification.py:1245: UndefinedMetricWarning: Precision and F-score are ill-defined and being set to 0.0 in labels with no predicted samples. Use `zero_division` parameter to control this behavior.\n",
      "  _warn_prf(average, modifier, msg_start, len(result))\n",
      "C:\\Users\\sjhal\\Anaconda3\\envs\\disaster\\lib\\site-packages\\sklearn\\metrics\\_classification.py:1245: UndefinedMetricWarning: Precision and F-score are ill-defined and being set to 0.0 in labels with no predicted samples. Use `zero_division` parameter to control this behavior.\n",
      "  _warn_prf(average, modifier, msg_start, len(result))\n",
      "C:\\Users\\sjhal\\Anaconda3\\envs\\disaster\\lib\\site-packages\\sklearn\\metrics\\_classification.py:1245: UndefinedMetricWarning: Precision and F-score are ill-defined and being set to 0.0 in labels with no predicted samples. Use `zero_division` parameter to control this behavior.\n",
      "  _warn_prf(average, modifier, msg_start, len(result))\n",
      "C:\\Users\\sjhal\\Anaconda3\\envs\\disaster\\lib\\site-packages\\sklearn\\metrics\\_classification.py:1245: UndefinedMetricWarning: Precision and F-score are ill-defined and being set to 0.0 in labels with no predicted samples. Use `zero_division` parameter to control this behavior.\n",
      "  _warn_prf(average, modifier, msg_start, len(result))\n",
      "C:\\Users\\sjhal\\Anaconda3\\envs\\disaster\\lib\\site-packages\\sklearn\\metrics\\_classification.py:1245: UndefinedMetricWarning: Precision and F-score are ill-defined and being set to 0.0 in labels with no predicted samples. Use `zero_division` parameter to control this behavior.\n",
      "  _warn_prf(average, modifier, msg_start, len(result))\n",
      "C:\\Users\\sjhal\\Anaconda3\\envs\\disaster\\lib\\site-packages\\sklearn\\metrics\\_classification.py:1245: UndefinedMetricWarning: Precision and F-score are ill-defined and being set to 0.0 in labels with no predicted samples. Use `zero_division` parameter to control this behavior.\n",
      "  _warn_prf(average, modifier, msg_start, len(result))\n",
      "C:\\Users\\sjhal\\Anaconda3\\envs\\disaster\\lib\\site-packages\\sklearn\\metrics\\_classification.py:1245: UndefinedMetricWarning: Precision and F-score are ill-defined and being set to 0.0 in labels with no predicted samples. Use `zero_division` parameter to control this behavior.\n",
      "  _warn_prf(average, modifier, msg_start, len(result))\n",
      "C:\\Users\\sjhal\\Anaconda3\\envs\\disaster\\lib\\site-packages\\sklearn\\metrics\\_classification.py:1245: UndefinedMetricWarning: Precision and F-score are ill-defined and being set to 0.0 in labels with no predicted samples. Use `zero_division` parameter to control this behavior.\n",
      "  _warn_prf(average, modifier, msg_start, len(result))\n",
      "C:\\Users\\sjhal\\Anaconda3\\envs\\disaster\\lib\\site-packages\\sklearn\\metrics\\_classification.py:1245: UndefinedMetricWarning: Precision and F-score are ill-defined and being set to 0.0 in labels with no predicted samples. Use `zero_division` parameter to control this behavior.\n",
      "  _warn_prf(average, modifier, msg_start, len(result))\n",
      "C:\\Users\\sjhal\\Anaconda3\\envs\\disaster\\lib\\site-packages\\sklearn\\metrics\\_classification.py:1245: UndefinedMetricWarning: Precision and F-score are ill-defined and being set to 0.0 in labels with no predicted samples. Use `zero_division` parameter to control this behavior.\n",
      "  _warn_prf(average, modifier, msg_start, len(result))\n",
      "C:\\Users\\sjhal\\Anaconda3\\envs\\disaster\\lib\\site-packages\\sklearn\\metrics\\_classification.py:1245: UndefinedMetricWarning: Precision and F-score are ill-defined and being set to 0.0 in labels with no predicted samples. Use `zero_division` parameter to control this behavior.\n",
      "  _warn_prf(average, modifier, msg_start, len(result))\n",
      "C:\\Users\\sjhal\\Anaconda3\\envs\\disaster\\lib\\site-packages\\sklearn\\metrics\\_classification.py:1245: UndefinedMetricWarning: Precision and F-score are ill-defined and being set to 0.0 in labels with no predicted samples. Use `zero_division` parameter to control this behavior.\n",
      "  _warn_prf(average, modifier, msg_start, len(result))\n"
     ]
    },
    {
     "name": "stdout",
     "output_type": "stream",
     "text": [
      "              precision    recall  f1-score   support\n",
      "\n",
      "         0.0       0.99      1.00      0.99      6465\n",
      "         1.0       0.00      0.00      0.00        87\n",
      "\n",
      "    accuracy                           0.99      6552\n",
      "   macro avg       0.49      0.50      0.50      6552\n",
      "weighted avg       0.97      0.99      0.98      6552\n",
      "\n",
      "refugees\n",
      "              precision    recall  f1-score   support\n",
      "\n",
      "         0.0       0.97      1.00      0.98      6324\n",
      "         1.0       0.00      0.00      0.00       228\n",
      "\n",
      "    accuracy                           0.97      6552\n",
      "   macro avg       0.48      0.50      0.49      6552\n",
      "weighted avg       0.93      0.97      0.95      6552\n",
      "\n",
      "death\n",
      "              precision    recall  f1-score   support\n",
      "\n",
      "         0.0       0.95      1.00      0.98      6255\n",
      "         1.0       0.00      0.00      0.00       297\n",
      "\n",
      "    accuracy                           0.95      6552\n",
      "   macro avg       0.48      0.50      0.49      6552\n",
      "weighted avg       0.91      0.95      0.93      6552\n",
      "\n",
      "other_aid\n",
      "              precision    recall  f1-score   support\n",
      "\n",
      "         0.0       0.87      1.00      0.93      5710\n",
      "         1.0       0.33      0.00      0.00       842\n",
      "\n",
      "    accuracy                           0.87      6552\n",
      "   macro avg       0.60      0.50      0.47      6552\n",
      "weighted avg       0.80      0.87      0.81      6552\n",
      "\n",
      "infrastructure_related\n"
     ]
    },
    {
     "name": "stderr",
     "output_type": "stream",
     "text": [
      "C:\\Users\\sjhal\\Anaconda3\\envs\\disaster\\lib\\site-packages\\sklearn\\metrics\\_classification.py:1245: UndefinedMetricWarning: Precision and F-score are ill-defined and being set to 0.0 in labels with no predicted samples. Use `zero_division` parameter to control this behavior.\n",
      "  _warn_prf(average, modifier, msg_start, len(result))\n",
      "C:\\Users\\sjhal\\Anaconda3\\envs\\disaster\\lib\\site-packages\\sklearn\\metrics\\_classification.py:1245: UndefinedMetricWarning: Precision and F-score are ill-defined and being set to 0.0 in labels with no predicted samples. Use `zero_division` parameter to control this behavior.\n",
      "  _warn_prf(average, modifier, msg_start, len(result))\n",
      "C:\\Users\\sjhal\\Anaconda3\\envs\\disaster\\lib\\site-packages\\sklearn\\metrics\\_classification.py:1245: UndefinedMetricWarning: Precision and F-score are ill-defined and being set to 0.0 in labels with no predicted samples. Use `zero_division` parameter to control this behavior.\n",
      "  _warn_prf(average, modifier, msg_start, len(result))\n",
      "C:\\Users\\sjhal\\Anaconda3\\envs\\disaster\\lib\\site-packages\\sklearn\\metrics\\_classification.py:1245: UndefinedMetricWarning: Precision and F-score are ill-defined and being set to 0.0 in labels with no predicted samples. Use `zero_division` parameter to control this behavior.\n",
      "  _warn_prf(average, modifier, msg_start, len(result))\n",
      "C:\\Users\\sjhal\\Anaconda3\\envs\\disaster\\lib\\site-packages\\sklearn\\metrics\\_classification.py:1245: UndefinedMetricWarning: Precision and F-score are ill-defined and being set to 0.0 in labels with no predicted samples. Use `zero_division` parameter to control this behavior.\n",
      "  _warn_prf(average, modifier, msg_start, len(result))\n",
      "C:\\Users\\sjhal\\Anaconda3\\envs\\disaster\\lib\\site-packages\\sklearn\\metrics\\_classification.py:1245: UndefinedMetricWarning: Precision and F-score are ill-defined and being set to 0.0 in labels with no predicted samples. Use `zero_division` parameter to control this behavior.\n",
      "  _warn_prf(average, modifier, msg_start, len(result))\n",
      "C:\\Users\\sjhal\\Anaconda3\\envs\\disaster\\lib\\site-packages\\sklearn\\metrics\\_classification.py:1245: UndefinedMetricWarning: Precision and F-score are ill-defined and being set to 0.0 in labels with no predicted samples. Use `zero_division` parameter to control this behavior.\n",
      "  _warn_prf(average, modifier, msg_start, len(result))\n",
      "C:\\Users\\sjhal\\Anaconda3\\envs\\disaster\\lib\\site-packages\\sklearn\\metrics\\_classification.py:1245: UndefinedMetricWarning: Precision and F-score are ill-defined and being set to 0.0 in labels with no predicted samples. Use `zero_division` parameter to control this behavior.\n",
      "  _warn_prf(average, modifier, msg_start, len(result))\n",
      "C:\\Users\\sjhal\\Anaconda3\\envs\\disaster\\lib\\site-packages\\sklearn\\metrics\\_classification.py:1245: UndefinedMetricWarning: Precision and F-score are ill-defined and being set to 0.0 in labels with no predicted samples. Use `zero_division` parameter to control this behavior.\n",
      "  _warn_prf(average, modifier, msg_start, len(result))\n",
      "C:\\Users\\sjhal\\Anaconda3\\envs\\disaster\\lib\\site-packages\\sklearn\\metrics\\_classification.py:1245: UndefinedMetricWarning: Precision and F-score are ill-defined and being set to 0.0 in labels with no predicted samples. Use `zero_division` parameter to control this behavior.\n",
      "  _warn_prf(average, modifier, msg_start, len(result))\n"
     ]
    },
    {
     "name": "stdout",
     "output_type": "stream",
     "text": [
      "              precision    recall  f1-score   support\n",
      "\n",
      "         0.0       0.94      1.00      0.97      6127\n",
      "         1.0       0.00      0.00      0.00       425\n",
      "\n",
      "    accuracy                           0.94      6552\n",
      "   macro avg       0.47      0.50      0.48      6552\n",
      "weighted avg       0.87      0.94      0.90      6552\n",
      "\n",
      "transport\n",
      "              precision    recall  f1-score   support\n",
      "\n",
      "         0.0       0.95      1.00      0.97      6222\n",
      "         1.0       0.00      0.00      0.00       330\n",
      "\n",
      "    accuracy                           0.95      6552\n",
      "   macro avg       0.47      0.50      0.49      6552\n",
      "weighted avg       0.90      0.95      0.93      6552\n",
      "\n",
      "buildings\n",
      "              precision    recall  f1-score   support\n",
      "\n",
      "         0.0       0.95      1.00      0.97      6216\n",
      "         1.0       0.00      0.00      0.00       336\n",
      "\n",
      "    accuracy                           0.95      6552\n",
      "   macro avg       0.47      0.50      0.49      6552\n",
      "weighted avg       0.90      0.95      0.92      6552\n",
      "\n",
      "electricity\n"
     ]
    },
    {
     "name": "stderr",
     "output_type": "stream",
     "text": [
      "C:\\Users\\sjhal\\Anaconda3\\envs\\disaster\\lib\\site-packages\\sklearn\\metrics\\_classification.py:1245: UndefinedMetricWarning: Precision and F-score are ill-defined and being set to 0.0 in labels with no predicted samples. Use `zero_division` parameter to control this behavior.\n",
      "  _warn_prf(average, modifier, msg_start, len(result))\n",
      "C:\\Users\\sjhal\\Anaconda3\\envs\\disaster\\lib\\site-packages\\sklearn\\metrics\\_classification.py:1245: UndefinedMetricWarning: Precision and F-score are ill-defined and being set to 0.0 in labels with no predicted samples. Use `zero_division` parameter to control this behavior.\n",
      "  _warn_prf(average, modifier, msg_start, len(result))\n",
      "C:\\Users\\sjhal\\Anaconda3\\envs\\disaster\\lib\\site-packages\\sklearn\\metrics\\_classification.py:1245: UndefinedMetricWarning: Precision and F-score are ill-defined and being set to 0.0 in labels with no predicted samples. Use `zero_division` parameter to control this behavior.\n",
      "  _warn_prf(average, modifier, msg_start, len(result))\n",
      "C:\\Users\\sjhal\\Anaconda3\\envs\\disaster\\lib\\site-packages\\sklearn\\metrics\\_classification.py:1245: UndefinedMetricWarning: Precision and F-score are ill-defined and being set to 0.0 in labels with no predicted samples. Use `zero_division` parameter to control this behavior.\n",
      "  _warn_prf(average, modifier, msg_start, len(result))\n",
      "C:\\Users\\sjhal\\Anaconda3\\envs\\disaster\\lib\\site-packages\\sklearn\\metrics\\_classification.py:1245: UndefinedMetricWarning: Precision and F-score are ill-defined and being set to 0.0 in labels with no predicted samples. Use `zero_division` parameter to control this behavior.\n",
      "  _warn_prf(average, modifier, msg_start, len(result))\n",
      "C:\\Users\\sjhal\\Anaconda3\\envs\\disaster\\lib\\site-packages\\sklearn\\metrics\\_classification.py:1245: UndefinedMetricWarning: Precision and F-score are ill-defined and being set to 0.0 in labels with no predicted samples. Use `zero_division` parameter to control this behavior.\n",
      "  _warn_prf(average, modifier, msg_start, len(result))\n",
      "C:\\Users\\sjhal\\Anaconda3\\envs\\disaster\\lib\\site-packages\\sklearn\\metrics\\_classification.py:1245: UndefinedMetricWarning: Precision and F-score are ill-defined and being set to 0.0 in labels with no predicted samples. Use `zero_division` parameter to control this behavior.\n",
      "  _warn_prf(average, modifier, msg_start, len(result))\n",
      "C:\\Users\\sjhal\\Anaconda3\\envs\\disaster\\lib\\site-packages\\sklearn\\metrics\\_classification.py:1245: UndefinedMetricWarning: Precision and F-score are ill-defined and being set to 0.0 in labels with no predicted samples. Use `zero_division` parameter to control this behavior.\n",
      "  _warn_prf(average, modifier, msg_start, len(result))\n",
      "C:\\Users\\sjhal\\Anaconda3\\envs\\disaster\\lib\\site-packages\\sklearn\\metrics\\_classification.py:1245: UndefinedMetricWarning: Precision and F-score are ill-defined and being set to 0.0 in labels with no predicted samples. Use `zero_division` parameter to control this behavior.\n",
      "  _warn_prf(average, modifier, msg_start, len(result))\n",
      "C:\\Users\\sjhal\\Anaconda3\\envs\\disaster\\lib\\site-packages\\sklearn\\metrics\\_classification.py:1245: UndefinedMetricWarning: Precision and F-score are ill-defined and being set to 0.0 in labels with no predicted samples. Use `zero_division` parameter to control this behavior.\n",
      "  _warn_prf(average, modifier, msg_start, len(result))\n",
      "C:\\Users\\sjhal\\Anaconda3\\envs\\disaster\\lib\\site-packages\\sklearn\\metrics\\_classification.py:1245: UndefinedMetricWarning: Precision and F-score are ill-defined and being set to 0.0 in labels with no predicted samples. Use `zero_division` parameter to control this behavior.\n",
      "  _warn_prf(average, modifier, msg_start, len(result))\n"
     ]
    },
    {
     "name": "stdout",
     "output_type": "stream",
     "text": [
      "              precision    recall  f1-score   support\n",
      "\n",
      "         0.0       0.98      1.00      0.99      6439\n",
      "         1.0       0.00      0.00      0.00       113\n",
      "\n",
      "    accuracy                           0.98      6552\n",
      "   macro avg       0.49      0.50      0.50      6552\n",
      "weighted avg       0.97      0.98      0.97      6552\n",
      "\n",
      "tools\n",
      "              precision    recall  f1-score   support\n",
      "\n",
      "         0.0       1.00      1.00      1.00      6523\n",
      "         1.0       0.00      0.00      0.00        29\n",
      "\n",
      "    accuracy                           1.00      6552\n",
      "   macro avg       0.50      0.50      0.50      6552\n",
      "weighted avg       0.99      1.00      0.99      6552\n",
      "\n",
      "hospitals\n",
      "              precision    recall  f1-score   support\n",
      "\n",
      "         0.0       0.99      1.00      1.00      6489\n",
      "         1.0       0.00      0.00      0.00        63\n",
      "\n",
      "    accuracy                           0.99      6552\n",
      "   macro avg       0.50      0.50      0.50      6552\n",
      "weighted avg       0.98      0.99      0.99      6552\n",
      "\n",
      "shops\n",
      "              precision    recall  f1-score   support\n",
      "\n",
      "         0.0       1.00      1.00      1.00      6523\n",
      "         1.0       0.00      0.00      0.00        29\n",
      "\n",
      "    accuracy                           1.00      6552\n",
      "   macro avg       0.50      0.50      0.50      6552\n",
      "weighted avg       0.99      1.00      0.99      6552\n",
      "\n",
      "aid_centers\n"
     ]
    },
    {
     "name": "stderr",
     "output_type": "stream",
     "text": [
      "C:\\Users\\sjhal\\Anaconda3\\envs\\disaster\\lib\\site-packages\\sklearn\\metrics\\_classification.py:1245: UndefinedMetricWarning: Precision and F-score are ill-defined and being set to 0.0 in labels with no predicted samples. Use `zero_division` parameter to control this behavior.\n",
      "  _warn_prf(average, modifier, msg_start, len(result))\n",
      "C:\\Users\\sjhal\\Anaconda3\\envs\\disaster\\lib\\site-packages\\sklearn\\metrics\\_classification.py:1245: UndefinedMetricWarning: Precision and F-score are ill-defined and being set to 0.0 in labels with no predicted samples. Use `zero_division` parameter to control this behavior.\n",
      "  _warn_prf(average, modifier, msg_start, len(result))\n",
      "C:\\Users\\sjhal\\Anaconda3\\envs\\disaster\\lib\\site-packages\\sklearn\\metrics\\_classification.py:1245: UndefinedMetricWarning: Precision and F-score are ill-defined and being set to 0.0 in labels with no predicted samples. Use `zero_division` parameter to control this behavior.\n",
      "  _warn_prf(average, modifier, msg_start, len(result))\n",
      "C:\\Users\\sjhal\\Anaconda3\\envs\\disaster\\lib\\site-packages\\sklearn\\metrics\\_classification.py:1245: UndefinedMetricWarning: Precision and F-score are ill-defined and being set to 0.0 in labels with no predicted samples. Use `zero_division` parameter to control this behavior.\n",
      "  _warn_prf(average, modifier, msg_start, len(result))\n",
      "C:\\Users\\sjhal\\Anaconda3\\envs\\disaster\\lib\\site-packages\\sklearn\\metrics\\_classification.py:1245: UndefinedMetricWarning: Precision and F-score are ill-defined and being set to 0.0 in labels with no predicted samples. Use `zero_division` parameter to control this behavior.\n",
      "  _warn_prf(average, modifier, msg_start, len(result))\n",
      "C:\\Users\\sjhal\\Anaconda3\\envs\\disaster\\lib\\site-packages\\sklearn\\metrics\\_classification.py:1245: UndefinedMetricWarning: Precision and F-score are ill-defined and being set to 0.0 in labels with no predicted samples. Use `zero_division` parameter to control this behavior.\n",
      "  _warn_prf(average, modifier, msg_start, len(result))\n"
     ]
    },
    {
     "name": "stdout",
     "output_type": "stream",
     "text": [
      "              precision    recall  f1-score   support\n",
      "\n",
      "         0.0       0.99      1.00      0.99      6477\n",
      "         1.0       0.00      0.00      0.00        75\n",
      "\n",
      "    accuracy                           0.99      6552\n",
      "   macro avg       0.49      0.50      0.50      6552\n",
      "weighted avg       0.98      0.99      0.98      6552\n",
      "\n",
      "other_infrastructure\n",
      "              precision    recall  f1-score   support\n",
      "\n",
      "         0.0       0.96      1.00      0.98      6270\n",
      "         1.0       0.00      0.00      0.00       282\n",
      "\n",
      "    accuracy                           0.96      6552\n",
      "   macro avg       0.48      0.50      0.49      6552\n",
      "weighted avg       0.92      0.96      0.94      6552\n",
      "\n",
      "weather_related\n",
      "              precision    recall  f1-score   support\n",
      "\n",
      "         0.0       0.75      0.92      0.83      4732\n",
      "         1.0       0.50      0.20      0.29      1820\n",
      "\n",
      "    accuracy                           0.72      6552\n",
      "   macro avg       0.63      0.56      0.56      6552\n",
      "weighted avg       0.68      0.72      0.68      6552\n",
      "\n",
      "floods\n",
      "              precision    recall  f1-score   support\n",
      "\n",
      "         0.0       0.91      1.00      0.96      5995\n",
      "         1.0       0.00      0.00      0.00       557\n",
      "\n",
      "    accuracy                           0.91      6552\n",
      "   macro avg       0.46      0.50      0.48      6552\n",
      "weighted avg       0.84      0.91      0.87      6552\n",
      "\n",
      "storm\n",
      "              precision    recall  f1-score   support\n",
      "\n",
      "         0.0       0.91      1.00      0.95      5964\n",
      "         1.0       0.42      0.03      0.06       588\n",
      "\n",
      "    accuracy                           0.91      6552\n",
      "   macro avg       0.67      0.51      0.50      6552\n",
      "weighted avg       0.87      0.91      0.87      6552\n",
      "\n",
      "fire\n",
      "              precision    recall  f1-score   support\n",
      "\n",
      "         0.0       0.99      1.00      0.99      6481\n",
      "         1.0       0.00      0.00      0.00        71\n",
      "\n",
      "    accuracy                           0.99      6552\n",
      "   macro avg       0.49      0.50      0.50      6552\n",
      "weighted avg       0.98      0.99      0.98      6552\n",
      "\n",
      "earthquake\n",
      "              precision    recall  f1-score   support\n",
      "\n",
      "         0.0       0.91      1.00      0.95      5928\n",
      "         1.0       0.81      0.11      0.19       624\n",
      "\n",
      "    accuracy                           0.91      6552\n",
      "   macro avg       0.86      0.55      0.57      6552\n",
      "weighted avg       0.90      0.91      0.88      6552\n",
      "\n",
      "cold\n",
      "              precision    recall  f1-score   support\n",
      "\n",
      "         0.0       0.98      1.00      0.99      6421\n",
      "         1.0       0.00      0.00      0.00       131\n",
      "\n",
      "    accuracy                           0.98      6552\n",
      "   macro avg       0.49      0.50      0.49      6552\n",
      "weighted avg       0.96      0.98      0.97      6552\n",
      "\n",
      "other_weather\n"
     ]
    },
    {
     "name": "stderr",
     "output_type": "stream",
     "text": [
      "C:\\Users\\sjhal\\Anaconda3\\envs\\disaster\\lib\\site-packages\\sklearn\\metrics\\_classification.py:1245: UndefinedMetricWarning: Precision and F-score are ill-defined and being set to 0.0 in labels with no predicted samples. Use `zero_division` parameter to control this behavior.\n",
      "  _warn_prf(average, modifier, msg_start, len(result))\n",
      "C:\\Users\\sjhal\\Anaconda3\\envs\\disaster\\lib\\site-packages\\sklearn\\metrics\\_classification.py:1245: UndefinedMetricWarning: Precision and F-score are ill-defined and being set to 0.0 in labels with no predicted samples. Use `zero_division` parameter to control this behavior.\n",
      "  _warn_prf(average, modifier, msg_start, len(result))\n",
      "C:\\Users\\sjhal\\Anaconda3\\envs\\disaster\\lib\\site-packages\\sklearn\\metrics\\_classification.py:1245: UndefinedMetricWarning: Precision and F-score are ill-defined and being set to 0.0 in labels with no predicted samples. Use `zero_division` parameter to control this behavior.\n",
      "  _warn_prf(average, modifier, msg_start, len(result))\n",
      "C:\\Users\\sjhal\\Anaconda3\\envs\\disaster\\lib\\site-packages\\sklearn\\metrics\\_classification.py:1245: UndefinedMetricWarning: Precision and F-score are ill-defined and being set to 0.0 in labels with no predicted samples. Use `zero_division` parameter to control this behavior.\n",
      "  _warn_prf(average, modifier, msg_start, len(result))\n",
      "C:\\Users\\sjhal\\Anaconda3\\envs\\disaster\\lib\\site-packages\\sklearn\\metrics\\_classification.py:1245: UndefinedMetricWarning: Precision and F-score are ill-defined and being set to 0.0 in labels with no predicted samples. Use `zero_division` parameter to control this behavior.\n",
      "  _warn_prf(average, modifier, msg_start, len(result))\n",
      "C:\\Users\\sjhal\\Anaconda3\\envs\\disaster\\lib\\site-packages\\sklearn\\metrics\\_classification.py:1245: UndefinedMetricWarning: Precision and F-score are ill-defined and being set to 0.0 in labels with no predicted samples. Use `zero_division` parameter to control this behavior.\n",
      "  _warn_prf(average, modifier, msg_start, len(result))\n",
      "C:\\Users\\sjhal\\Anaconda3\\envs\\disaster\\lib\\site-packages\\sklearn\\metrics\\_classification.py:1245: UndefinedMetricWarning: Precision and F-score are ill-defined and being set to 0.0 in labels with no predicted samples. Use `zero_division` parameter to control this behavior.\n",
      "  _warn_prf(average, modifier, msg_start, len(result))\n"
     ]
    },
    {
     "name": "stdout",
     "output_type": "stream",
     "text": [
      "              precision    recall  f1-score   support\n",
      "\n",
      "         0.0       0.95      1.00      0.97      6197\n",
      "         1.0       0.00      0.00      0.00       355\n",
      "\n",
      "    accuracy                           0.95      6552\n",
      "   macro avg       0.47      0.50      0.49      6552\n",
      "weighted avg       0.89      0.95      0.92      6552\n",
      "\n",
      "direct_report\n",
      "              precision    recall  f1-score   support\n",
      "\n",
      "         0.0       0.81      0.98      0.89      5279\n",
      "         1.0       0.39      0.05      0.08      1273\n",
      "\n",
      "    accuracy                           0.80      6552\n",
      "   macro avg       0.60      0.51      0.49      6552\n",
      "weighted avg       0.73      0.80      0.73      6552\n",
      "\n"
     ]
    },
    {
     "name": "stderr",
     "output_type": "stream",
     "text": [
      "C:\\Users\\sjhal\\Anaconda3\\envs\\disaster\\lib\\site-packages\\sklearn\\metrics\\_classification.py:1245: UndefinedMetricWarning: Precision and F-score are ill-defined and being set to 0.0 in labels with no predicted samples. Use `zero_division` parameter to control this behavior.\n",
      "  _warn_prf(average, modifier, msg_start, len(result))\n",
      "C:\\Users\\sjhal\\Anaconda3\\envs\\disaster\\lib\\site-packages\\sklearn\\metrics\\_classification.py:1245: UndefinedMetricWarning: Precision and F-score are ill-defined and being set to 0.0 in labels with no predicted samples. Use `zero_division` parameter to control this behavior.\n",
      "  _warn_prf(average, modifier, msg_start, len(result))\n"
     ]
    }
   ],
   "source": [
    "for col in Y_test.columns:\n",
    "    print(col)\n",
    "    print(classification_report(Y_test[col], y_pred2[col]))"
   ]
  },
  {
   "cell_type": "code",
   "execution_count": 63,
   "metadata": {},
   "outputs": [
    {
     "data": {
      "text/plain": [
       "0.1704822954822955"
      ]
     },
     "execution_count": 63,
     "metadata": {},
     "output_type": "execute_result"
    }
   ],
   "source": [
    "cv2.score(X_test, Y_test)"
   ]
  },
  {
   "cell_type": "code",
   "execution_count": 71,
   "metadata": {},
   "outputs": [
    {
     "data": {
      "text/plain": [
       "0.9245904558404558"
      ]
     },
     "execution_count": 71,
     "metadata": {},
     "output_type": "execute_result"
    }
   ],
   "source": [
    "np.mean(np.mean(Y_test.reset_index(drop=True).eq(y_pred2), axis=0))"
   ]
  },
  {
   "cell_type": "code",
   "execution_count": 100,
   "metadata": {},
   "outputs": [
    {
     "data": {
      "text/plain": [
       "0.26265129133708187"
      ]
     },
     "execution_count": 100,
     "metadata": {},
     "output_type": "execute_result"
    }
   ],
   "source": [
    "df_add = Y_test.reset_index(drop=True).add(y_pred2, fill_value=0)\n",
    "(df_add[df_add == 2]/2).sum(axis=0, numeric_only=True).sum()/(Y_test.sum(axis=0, numeric_only=True).sum())"
   ]
  },
  {
   "cell_type": "markdown",
   "metadata": {},
   "source": [
    "### 9. Export your model as a pickle file"
   ]
  },
  {
   "cell_type": "code",
   "execution_count": 103,
   "metadata": {},
   "outputs": [],
   "source": [
    "# save the model to disk\n",
    "filename = 'classifier.pkl'\n",
    "pickle.dump(cv, open(filename, 'wb'))"
   ]
  },
  {
   "cell_type": "markdown",
   "metadata": {},
   "source": [
    "### 10. Use this notebook to complete `train.py`\n",
    "Use the template file attached in the Resources folder to write a script that runs the steps above to create a database and export a model based on a new dataset specified by the user."
   ]
  },
  {
   "cell_type": "code",
   "execution_count": null,
   "metadata": {},
   "outputs": [],
   "source": []
  }
 ],
 "metadata": {
  "kernelspec": {
   "display_name": "Python 3",
   "language": "python",
   "name": "python3"
  },
  "language_info": {
   "codemirror_mode": {
    "name": "ipython",
    "version": 3
   },
   "file_extension": ".py",
   "mimetype": "text/x-python",
   "name": "python",
   "nbconvert_exporter": "python",
   "pygments_lexer": "ipython3",
   "version": "3.8.6"
  }
 },
 "nbformat": 4,
 "nbformat_minor": 2
}
